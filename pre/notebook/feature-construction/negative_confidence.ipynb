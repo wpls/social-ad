{
 "cells": [
  {
   "cell_type": "code",
   "execution_count": 1,
   "metadata": {
    "collapsed": true
   },
   "outputs": [],
   "source": [
    "import pandas as pd\n",
    "from pandas import DataFrame\n",
    "from pandas import Series\n",
    "\n",
    "import numpy as np\n",
    "import matplotlib.pyplot as plt"
   ]
  },
  {
   "cell_type": "markdown",
   "metadata": {},
   "source": [
    "### 设置路径"
   ]
  },
  {
   "cell_type": "code",
   "execution_count": 2,
   "metadata": {
    "collapsed": true
   },
   "outputs": [],
   "source": [
    "path_pre = '../../'\n",
    "path_original_dataset = path_pre + 'original-dataset/'\n",
    "path_intermediate_dataset = path_pre + 'intermediate-dataset/'"
   ]
  },
  {
   "cell_type": "markdown",
   "metadata": {},
   "source": [
    "### 加载 train.csv"
   ]
  },
  {
   "cell_type": "code",
   "execution_count": 3,
   "metadata": {
    "collapsed": false
   },
   "outputs": [
    {
     "data": {
      "text/html": [
       "<div>\n",
       "<table border=\"1\" class=\"dataframe\">\n",
       "  <thead>\n",
       "    <tr style=\"text-align: right;\">\n",
       "      <th></th>\n",
       "      <th>label</th>\n",
       "      <th>clickTime</th>\n",
       "      <th>conversionTime</th>\n",
       "      <th>creativeID</th>\n",
       "      <th>userID</th>\n",
       "      <th>positionID</th>\n",
       "      <th>connectionType</th>\n",
       "      <th>telecomsOperator</th>\n",
       "    </tr>\n",
       "  </thead>\n",
       "  <tbody>\n",
       "    <tr>\n",
       "      <th>111</th>\n",
       "      <td>0</td>\n",
       "      <td>170000</td>\n",
       "      <td>NaN</td>\n",
       "      <td>2522</td>\n",
       "      <td>1855022</td>\n",
       "      <td>6539</td>\n",
       "      <td>1</td>\n",
       "      <td>1.0</td>\n",
       "    </tr>\n",
       "    <tr>\n",
       "      <th>90</th>\n",
       "      <td>0</td>\n",
       "      <td>170000</td>\n",
       "      <td>NaN</td>\n",
       "      <td>1004</td>\n",
       "      <td>2279109</td>\n",
       "      <td>5414</td>\n",
       "      <td>1</td>\n",
       "      <td>1.0</td>\n",
       "    </tr>\n",
       "    <tr>\n",
       "      <th>5</th>\n",
       "      <td>0</td>\n",
       "      <td>170000</td>\n",
       "      <td>NaN</td>\n",
       "      <td>3293</td>\n",
       "      <td>1177829</td>\n",
       "      <td>3347</td>\n",
       "      <td>1</td>\n",
       "      <td>1.0</td>\n",
       "    </tr>\n",
       "    <tr>\n",
       "      <th>101</th>\n",
       "      <td>0</td>\n",
       "      <td>170000</td>\n",
       "      <td>NaN</td>\n",
       "      <td>1259</td>\n",
       "      <td>2277789</td>\n",
       "      <td>3347</td>\n",
       "      <td>1</td>\n",
       "      <td>1.0</td>\n",
       "    </tr>\n",
       "    <tr>\n",
       "      <th>34</th>\n",
       "      <td>0</td>\n",
       "      <td>170000</td>\n",
       "      <td>NaN</td>\n",
       "      <td>4757</td>\n",
       "      <td>496624</td>\n",
       "      <td>2058</td>\n",
       "      <td>1</td>\n",
       "      <td>1.0</td>\n",
       "    </tr>\n",
       "  </tbody>\n",
       "</table>\n",
       "</div>"
      ],
      "text/plain": [
       "     label  clickTime  conversionTime  creativeID   userID  positionID  \\\n",
       "111      0     170000             NaN        2522  1855022        6539   \n",
       "90       0     170000             NaN        1004  2279109        5414   \n",
       "5        0     170000             NaN        3293  1177829        3347   \n",
       "101      0     170000             NaN        1259  2277789        3347   \n",
       "34       0     170000             NaN        4757   496624        2058   \n",
       "\n",
       "     connectionType  telecomsOperator  \n",
       "111               1               1.0  \n",
       "90                1               1.0  \n",
       "5                 1               1.0  \n",
       "101               1               1.0  \n",
       "34                1               1.0  "
      ]
     },
     "execution_count": 3,
     "metadata": {},
     "output_type": "execute_result"
    }
   ],
   "source": [
    "train_df = pd.read_hdf(path_intermediate_dataset + 'train.h5')\n",
    "train_df.head()"
   ]
  },
  {
   "cell_type": "markdown",
   "metadata": {},
   "source": [
    "### 提取转化回流时间特征，即deltaTime"
   ]
  },
  {
   "cell_type": "code",
   "execution_count": 4,
   "metadata": {
    "collapsed": true
   },
   "outputs": [],
   "source": [
    "def to_minute(df, column):\n",
    "    indexer = ~df[column].isnull()\n",
    "    day = np.floor(df.loc[indexer, column] / 10000)\n",
    "    hour = np.floor(df.loc[indexer, column] / 100) % 100\n",
    "    minute = df.loc[indexer, column] % 100\n",
    "    df.loc[indexer, column + '_min'] = day * 24 * 60 + hour * 60 + minute"
   ]
  },
  {
   "cell_type": "code",
   "execution_count": 5,
   "metadata": {
    "collapsed": false
   },
   "outputs": [
    {
     "data": {
      "text/html": [
       "<div>\n",
       "<table border=\"1\" class=\"dataframe\">\n",
       "  <thead>\n",
       "    <tr style=\"text-align: right;\">\n",
       "      <th></th>\n",
       "      <th>label</th>\n",
       "      <th>clickTime</th>\n",
       "      <th>conversionTime</th>\n",
       "      <th>creativeID</th>\n",
       "      <th>userID</th>\n",
       "      <th>positionID</th>\n",
       "      <th>connectionType</th>\n",
       "      <th>telecomsOperator</th>\n",
       "      <th>clickTime_min</th>\n",
       "      <th>conversionTime_min</th>\n",
       "    </tr>\n",
       "  </thead>\n",
       "  <tbody>\n",
       "    <tr>\n",
       "      <th>111</th>\n",
       "      <td>0</td>\n",
       "      <td>170000</td>\n",
       "      <td>NaN</td>\n",
       "      <td>2522</td>\n",
       "      <td>1855022</td>\n",
       "      <td>6539</td>\n",
       "      <td>1</td>\n",
       "      <td>1.0</td>\n",
       "      <td>24480.0</td>\n",
       "      <td>NaN</td>\n",
       "    </tr>\n",
       "    <tr>\n",
       "      <th>90</th>\n",
       "      <td>0</td>\n",
       "      <td>170000</td>\n",
       "      <td>NaN</td>\n",
       "      <td>1004</td>\n",
       "      <td>2279109</td>\n",
       "      <td>5414</td>\n",
       "      <td>1</td>\n",
       "      <td>1.0</td>\n",
       "      <td>24480.0</td>\n",
       "      <td>NaN</td>\n",
       "    </tr>\n",
       "    <tr>\n",
       "      <th>5</th>\n",
       "      <td>0</td>\n",
       "      <td>170000</td>\n",
       "      <td>NaN</td>\n",
       "      <td>3293</td>\n",
       "      <td>1177829</td>\n",
       "      <td>3347</td>\n",
       "      <td>1</td>\n",
       "      <td>1.0</td>\n",
       "      <td>24480.0</td>\n",
       "      <td>NaN</td>\n",
       "    </tr>\n",
       "    <tr>\n",
       "      <th>101</th>\n",
       "      <td>0</td>\n",
       "      <td>170000</td>\n",
       "      <td>NaN</td>\n",
       "      <td>1259</td>\n",
       "      <td>2277789</td>\n",
       "      <td>3347</td>\n",
       "      <td>1</td>\n",
       "      <td>1.0</td>\n",
       "      <td>24480.0</td>\n",
       "      <td>NaN</td>\n",
       "    </tr>\n",
       "    <tr>\n",
       "      <th>34</th>\n",
       "      <td>0</td>\n",
       "      <td>170000</td>\n",
       "      <td>NaN</td>\n",
       "      <td>4757</td>\n",
       "      <td>496624</td>\n",
       "      <td>2058</td>\n",
       "      <td>1</td>\n",
       "      <td>1.0</td>\n",
       "      <td>24480.0</td>\n",
       "      <td>NaN</td>\n",
       "    </tr>\n",
       "  </tbody>\n",
       "</table>\n",
       "</div>"
      ],
      "text/plain": [
       "     label  clickTime  conversionTime  creativeID   userID  positionID  \\\n",
       "111      0     170000             NaN        2522  1855022        6539   \n",
       "90       0     170000             NaN        1004  2279109        5414   \n",
       "5        0     170000             NaN        3293  1177829        3347   \n",
       "101      0     170000             NaN        1259  2277789        3347   \n",
       "34       0     170000             NaN        4757   496624        2058   \n",
       "\n",
       "     connectionType  telecomsOperator  clickTime_min  conversionTime_min  \n",
       "111               1               1.0        24480.0                 NaN  \n",
       "90                1               1.0        24480.0                 NaN  \n",
       "5                 1               1.0        24480.0                 NaN  \n",
       "101               1               1.0        24480.0                 NaN  \n",
       "34                1               1.0        24480.0                 NaN  "
      ]
     },
     "execution_count": 5,
     "metadata": {},
     "output_type": "execute_result"
    }
   ],
   "source": [
    "to_minute(train_df, 'clickTime')\n",
    "to_minute(train_df, 'conversionTime')\n",
    "train_df.head()"
   ]
  },
  {
   "cell_type": "code",
   "execution_count": 6,
   "metadata": {
    "collapsed": false
   },
   "outputs": [
    {
     "data": {
      "text/html": [
       "<div>\n",
       "<table border=\"1\" class=\"dataframe\">\n",
       "  <thead>\n",
       "    <tr style=\"text-align: right;\">\n",
       "      <th></th>\n",
       "      <th>label</th>\n",
       "      <th>clickTime</th>\n",
       "      <th>conversionTime</th>\n",
       "      <th>creativeID</th>\n",
       "      <th>userID</th>\n",
       "      <th>positionID</th>\n",
       "      <th>connectionType</th>\n",
       "      <th>telecomsOperator</th>\n",
       "      <th>clickTime_min</th>\n",
       "      <th>conversionTime_min</th>\n",
       "      <th>deltaTime_min</th>\n",
       "    </tr>\n",
       "  </thead>\n",
       "  <tbody>\n",
       "    <tr>\n",
       "      <th>111</th>\n",
       "      <td>0</td>\n",
       "      <td>170000</td>\n",
       "      <td>NaN</td>\n",
       "      <td>2522</td>\n",
       "      <td>1855022</td>\n",
       "      <td>6539</td>\n",
       "      <td>1</td>\n",
       "      <td>1.0</td>\n",
       "      <td>24480.0</td>\n",
       "      <td>NaN</td>\n",
       "      <td>NaN</td>\n",
       "    </tr>\n",
       "    <tr>\n",
       "      <th>90</th>\n",
       "      <td>0</td>\n",
       "      <td>170000</td>\n",
       "      <td>NaN</td>\n",
       "      <td>1004</td>\n",
       "      <td>2279109</td>\n",
       "      <td>5414</td>\n",
       "      <td>1</td>\n",
       "      <td>1.0</td>\n",
       "      <td>24480.0</td>\n",
       "      <td>NaN</td>\n",
       "      <td>NaN</td>\n",
       "    </tr>\n",
       "    <tr>\n",
       "      <th>5</th>\n",
       "      <td>0</td>\n",
       "      <td>170000</td>\n",
       "      <td>NaN</td>\n",
       "      <td>3293</td>\n",
       "      <td>1177829</td>\n",
       "      <td>3347</td>\n",
       "      <td>1</td>\n",
       "      <td>1.0</td>\n",
       "      <td>24480.0</td>\n",
       "      <td>NaN</td>\n",
       "      <td>NaN</td>\n",
       "    </tr>\n",
       "    <tr>\n",
       "      <th>101</th>\n",
       "      <td>0</td>\n",
       "      <td>170000</td>\n",
       "      <td>NaN</td>\n",
       "      <td>1259</td>\n",
       "      <td>2277789</td>\n",
       "      <td>3347</td>\n",
       "      <td>1</td>\n",
       "      <td>1.0</td>\n",
       "      <td>24480.0</td>\n",
       "      <td>NaN</td>\n",
       "      <td>NaN</td>\n",
       "    </tr>\n",
       "    <tr>\n",
       "      <th>34</th>\n",
       "      <td>0</td>\n",
       "      <td>170000</td>\n",
       "      <td>NaN</td>\n",
       "      <td>4757</td>\n",
       "      <td>496624</td>\n",
       "      <td>2058</td>\n",
       "      <td>1</td>\n",
       "      <td>1.0</td>\n",
       "      <td>24480.0</td>\n",
       "      <td>NaN</td>\n",
       "      <td>NaN</td>\n",
       "    </tr>\n",
       "  </tbody>\n",
       "</table>\n",
       "</div>"
      ],
      "text/plain": [
       "     label  clickTime  conversionTime  creativeID   userID  positionID  \\\n",
       "111      0     170000             NaN        2522  1855022        6539   \n",
       "90       0     170000             NaN        1004  2279109        5414   \n",
       "5        0     170000             NaN        3293  1177829        3347   \n",
       "101      0     170000             NaN        1259  2277789        3347   \n",
       "34       0     170000             NaN        4757   496624        2058   \n",
       "\n",
       "     connectionType  telecomsOperator  clickTime_min  conversionTime_min  \\\n",
       "111               1               1.0        24480.0                 NaN   \n",
       "90                1               1.0        24480.0                 NaN   \n",
       "5                 1               1.0        24480.0                 NaN   \n",
       "101               1               1.0        24480.0                 NaN   \n",
       "34                1               1.0        24480.0                 NaN   \n",
       "\n",
       "     deltaTime_min  \n",
       "111            NaN  \n",
       "90             NaN  \n",
       "5              NaN  \n",
       "101            NaN  \n",
       "34             NaN  "
      ]
     },
     "execution_count": 6,
     "metadata": {},
     "output_type": "execute_result"
    }
   ],
   "source": [
    "train_df['deltaTime_min'] = train_df['conversionTime_min'] - train_df['clickTime_min']\n",
    "train_df.head()"
   ]
  },
  {
   "cell_type": "code",
   "execution_count": 7,
   "metadata": {
    "collapsed": false
   },
   "outputs": [],
   "source": [
    "distribution_deltaTime = train_df['deltaTime_min'].value_counts()\n",
    "distribution_deltaTime.sort_index(inplace=True)"
   ]
  },
  {
   "cell_type": "code",
   "execution_count": 8,
   "metadata": {
    "collapsed": false
   },
   "outputs": [
    {
     "data": {
      "image/png": "[encoded data removed]",
      "text/plain": [
       "<matplotlib.figure.Figure at 0x7f865ace3a90>"
      ]
     },
     "metadata": {},
     "output_type": "display_data"
    }
   ],
   "source": [
    "distribution_deltaTime.plot(figsize=(16,4), style='*', logy=True)\n",
    "plt.xlim([-100, 7300])\n",
    "plt.show()"
   ]
  },
  {
   "cell_type": "code",
   "execution_count": 9,
   "metadata": {
    "collapsed": false
   },
   "outputs": [
    {
     "data": {
      "text/html": [
       "<div>\n",
       "<table border=\"1\" class=\"dataframe\">\n",
       "  <thead>\n",
       "    <tr style=\"text-align: right;\">\n",
       "      <th></th>\n",
       "      <th>deltaTime_min</th>\n",
       "      <th>num</th>\n",
       "    </tr>\n",
       "  </thead>\n",
       "  <tbody>\n",
       "    <tr>\n",
       "      <th>0</th>\n",
       "      <td>0.0</td>\n",
       "      <td>7198</td>\n",
       "    </tr>\n",
       "    <tr>\n",
       "      <th>1</th>\n",
       "      <td>1.0</td>\n",
       "      <td>19998</td>\n",
       "    </tr>\n",
       "    <tr>\n",
       "      <th>2</th>\n",
       "      <td>2.0</td>\n",
       "      <td>9773</td>\n",
       "    </tr>\n",
       "    <tr>\n",
       "      <th>3</th>\n",
       "      <td>3.0</td>\n",
       "      <td>5247</td>\n",
       "    </tr>\n",
       "    <tr>\n",
       "      <th>4</th>\n",
       "      <td>4.0</td>\n",
       "      <td>4313</td>\n",
       "    </tr>\n",
       "  </tbody>\n",
       "</table>\n",
       "</div>"
      ],
      "text/plain": [
       "   deltaTime_min    num\n",
       "0            0.0   7198\n",
       "1            1.0  19998\n",
       "2            2.0   9773\n",
       "3            3.0   5247\n",
       "4            4.0   4313"
      ]
     },
     "execution_count": 9,
     "metadata": {},
     "output_type": "execute_result"
    }
   ],
   "source": [
    "distribution_deltaTime_df = DataFrame(distribution_deltaTime)\n",
    "distribution_deltaTime_df.reset_index(inplace=True)\n",
    "distribution_deltaTime_df.columns = ['deltaTime_min', 'num']\n",
    "distribution_deltaTime_df.head()"
   ]
  },
  {
   "cell_type": "code",
   "execution_count": 10,
   "metadata": {
    "collapsed": false
   },
   "outputs": [
    {
     "data": {
      "text/html": [
       "<div>\n",
       "<table border=\"1\" class=\"dataframe\">\n",
       "  <thead>\n",
       "    <tr style=\"text-align: right;\">\n",
       "      <th></th>\n",
       "      <th>deltaTime_min</th>\n",
       "      <th>num</th>\n",
       "      <th>ratio</th>\n",
       "      <th>ratio_cumsum</th>\n",
       "    </tr>\n",
       "  </thead>\n",
       "  <tbody>\n",
       "    <tr>\n",
       "      <th>0</th>\n",
       "      <td>0.0</td>\n",
       "      <td>7198</td>\n",
       "      <td>0.077180</td>\n",
       "      <td>0.077180</td>\n",
       "    </tr>\n",
       "    <tr>\n",
       "      <th>1</th>\n",
       "      <td>1.0</td>\n",
       "      <td>19998</td>\n",
       "      <td>0.214428</td>\n",
       "      <td>0.291609</td>\n",
       "    </tr>\n",
       "    <tr>\n",
       "      <th>2</th>\n",
       "      <td>2.0</td>\n",
       "      <td>9773</td>\n",
       "      <td>0.104791</td>\n",
       "      <td>0.396399</td>\n",
       "    </tr>\n",
       "    <tr>\n",
       "      <th>3</th>\n",
       "      <td>3.0</td>\n",
       "      <td>5247</td>\n",
       "      <td>0.056261</td>\n",
       "      <td>0.452660</td>\n",
       "    </tr>\n",
       "    <tr>\n",
       "      <th>4</th>\n",
       "      <td>4.0</td>\n",
       "      <td>4313</td>\n",
       "      <td>0.046246</td>\n",
       "      <td>0.498906</td>\n",
       "    </tr>\n",
       "  </tbody>\n",
       "</table>\n",
       "</div>"
      ],
      "text/plain": [
       "   deltaTime_min    num     ratio  ratio_cumsum\n",
       "0            0.0   7198  0.077180      0.077180\n",
       "1            1.0  19998  0.214428      0.291609\n",
       "2            2.0   9773  0.104791      0.396399\n",
       "3            3.0   5247  0.056261      0.452660\n",
       "4            4.0   4313  0.046246      0.498906"
      ]
     },
     "execution_count": 10,
     "metadata": {},
     "output_type": "execute_result"
    }
   ],
   "source": [
    "distribution_deltaTime_df['ratio'] = distribution_deltaTime_df['num'] / distribution_deltaTime_df['num'].sum()\n",
    "distribution_deltaTime_df['ratio_cumsum'] = distribution_deltaTime_df['ratio'].cumsum()\n",
    "distribution_deltaTime_df.head()"
   ]
  },
  {
   "cell_type": "code",
   "execution_count": 11,
   "metadata": {
    "collapsed": false
   },
   "outputs": [
    {
     "data": {
      "text/html": [
       "<div>\n",
       "<table border=\"1\" class=\"dataframe\">\n",
       "  <thead>\n",
       "    <tr style=\"text-align: right;\">\n",
       "      <th></th>\n",
       "      <th>deltaTime_min</th>\n",
       "      <th>num</th>\n",
       "      <th>ratio</th>\n",
       "      <th>ratio_cumsum</th>\n",
       "    </tr>\n",
       "  </thead>\n",
       "  <tbody>\n",
       "    <tr>\n",
       "      <th>3558</th>\n",
       "      <td>6854.0</td>\n",
       "      <td>1</td>\n",
       "      <td>0.000011</td>\n",
       "      <td>0.999957</td>\n",
       "    </tr>\n",
       "    <tr>\n",
       "      <th>3559</th>\n",
       "      <td>6908.0</td>\n",
       "      <td>1</td>\n",
       "      <td>0.000011</td>\n",
       "      <td>0.999968</td>\n",
       "    </tr>\n",
       "    <tr>\n",
       "      <th>3560</th>\n",
       "      <td>6953.0</td>\n",
       "      <td>1</td>\n",
       "      <td>0.000011</td>\n",
       "      <td>0.999979</td>\n",
       "    </tr>\n",
       "    <tr>\n",
       "      <th>3561</th>\n",
       "      <td>7130.0</td>\n",
       "      <td>1</td>\n",
       "      <td>0.000011</td>\n",
       "      <td>0.999989</td>\n",
       "    </tr>\n",
       "    <tr>\n",
       "      <th>3562</th>\n",
       "      <td>7153.0</td>\n",
       "      <td>1</td>\n",
       "      <td>0.000011</td>\n",
       "      <td>1.000000</td>\n",
       "    </tr>\n",
       "  </tbody>\n",
       "</table>\n",
       "</div>"
      ],
      "text/plain": [
       "      deltaTime_min  num     ratio  ratio_cumsum\n",
       "3558         6854.0    1  0.000011      0.999957\n",
       "3559         6908.0    1  0.000011      0.999968\n",
       "3560         6953.0    1  0.000011      0.999979\n",
       "3561         7130.0    1  0.000011      0.999989\n",
       "3562         7153.0    1  0.000011      1.000000"
      ]
     },
     "execution_count": 11,
     "metadata": {},
     "output_type": "execute_result"
    }
   ],
   "source": [
    "distribution_deltaTime_df.tail()"
   ]
  },
  {
   "cell_type": "code",
   "execution_count": 12,
   "metadata": {
    "collapsed": false
   },
   "outputs": [
    {
     "data": {
      "image/png": "[encoded data removed]",
      "text/plain": [
       "<matplotlib.figure.Figure at 0x7f8646687e80>"
      ]
     },
     "metadata": {},
     "output_type": "display_data"
    }
   ],
   "source": [
    "distribution_deltaTime_df.plot(x='deltaTime_min', y='ratio_cumsum', figsize=(16,4), kind='scatter')\n",
    "plt.show()"
   ]
  },
  {
   "cell_type": "markdown",
   "metadata": {},
   "source": [
    "### 提取 confidence 表"
   ]
  },
  {
   "cell_type": "code",
   "execution_count": 13,
   "metadata": {
    "collapsed": true
   },
   "outputs": [],
   "source": [
    "distribution_deltaTime_df['deltaTime_min'] = distribution_deltaTime_df['deltaTime_min'].astype(int, copy=False)\n",
    "distribution_deltaTime_df.set_index('deltaTime_min', inplace=True)"
   ]
  },
  {
   "cell_type": "code",
   "execution_count": 14,
   "metadata": {
    "collapsed": false
   },
   "outputs": [
    {
     "data": {
      "text/plain": [
       "delta_deadline_min\n",
       "0    0.077180\n",
       "1    0.291609\n",
       "2    0.396399\n",
       "3    0.452660\n",
       "4    0.498906\n",
       "Name: confidence, dtype: float64"
      ]
     },
     "execution_count": 14,
     "metadata": {},
     "output_type": "execute_result"
    }
   ],
   "source": [
    "new_index = list(range(distribution_deltaTime_df.index.max() + 1))\n",
    "confidence = distribution_deltaTime_df['ratio_cumsum'].reindex(new_index, method='ffill')\n",
    "confidence.rename('confidence', inplace=True)\n",
    "confidence.index.name = 'delta_deadline_min'\n",
    "confidence.head()"
   ]
  },
  {
   "cell_type": "code",
   "execution_count": 15,
   "metadata": {
    "collapsed": false
   },
   "outputs": [
    {
     "data": {
      "text/html": [
       "<div>\n",
       "<table border=\"1\" class=\"dataframe\">\n",
       "  <thead>\n",
       "    <tr style=\"text-align: right;\">\n",
       "      <th></th>\n",
       "      <th>delta_deadline_min</th>\n",
       "      <th>confidence</th>\n",
       "    </tr>\n",
       "  </thead>\n",
       "  <tbody>\n",
       "    <tr>\n",
       "      <th>0</th>\n",
       "      <td>0</td>\n",
       "      <td>0.077180</td>\n",
       "    </tr>\n",
       "    <tr>\n",
       "      <th>1</th>\n",
       "      <td>1</td>\n",
       "      <td>0.291609</td>\n",
       "    </tr>\n",
       "    <tr>\n",
       "      <th>2</th>\n",
       "      <td>2</td>\n",
       "      <td>0.396399</td>\n",
       "    </tr>\n",
       "    <tr>\n",
       "      <th>3</th>\n",
       "      <td>3</td>\n",
       "      <td>0.452660</td>\n",
       "    </tr>\n",
       "    <tr>\n",
       "      <th>4</th>\n",
       "      <td>4</td>\n",
       "      <td>0.498906</td>\n",
       "    </tr>\n",
       "  </tbody>\n",
       "</table>\n",
       "</div>"
      ],
      "text/plain": [
       "   delta_deadline_min  confidence\n",
       "0                   0    0.077180\n",
       "1                   1    0.291609\n",
       "2                   2    0.396399\n",
       "3                   3    0.452660\n",
       "4                   4    0.498906"
      ]
     },
     "execution_count": 15,
     "metadata": {},
     "output_type": "execute_result"
    }
   ],
   "source": [
    "confidence_df = confidence.reset_index()\n",
    "confidence_df.head()"
   ]
  },
  {
   "cell_type": "markdown",
   "metadata": {},
   "source": [
    "如何从这个表中获取样本的置信度  \n",
    "1. testset_ol 中样本的置信度都为1\n",
    "2. 所有正样本的置信度都为1\n",
    "3. 训练集中负样本的置信度与距302400的分钟时间差有关系。5天以上的样本置信度为1；5天以内的，根据距310000的分钟时间差deltaTime_min在上表中查询。首先找到第一个比它小的deltaTime_min，然后以它的ratio_cumsum作为样本的置信度。"
   ]
  },
  {
   "cell_type": "markdown",
   "metadata": {},
   "source": [
    "### 构造置信度特征 Confidence"
   ]
  },
  {
   "cell_type": "code",
   "execution_count": 16,
   "metadata": {
    "collapsed": false
   },
   "outputs": [
    {
     "data": {
      "text/html": [
       "<div>\n",
       "<table border=\"1\" class=\"dataframe\">\n",
       "  <thead>\n",
       "    <tr style=\"text-align: right;\">\n",
       "      <th></th>\n",
       "      <th>label</th>\n",
       "      <th>clickTime</th>\n",
       "      <th>conversionTime</th>\n",
       "      <th>creativeID</th>\n",
       "      <th>userID</th>\n",
       "      <th>positionID</th>\n",
       "      <th>connectionType</th>\n",
       "      <th>telecomsOperator</th>\n",
       "      <th>clickTime_min</th>\n",
       "      <th>conversionTime_min</th>\n",
       "      <th>deltaTime_min</th>\n",
       "      <th>delta_deadline_min</th>\n",
       "    </tr>\n",
       "  </thead>\n",
       "  <tbody>\n",
       "    <tr>\n",
       "      <th>111</th>\n",
       "      <td>0</td>\n",
       "      <td>170000</td>\n",
       "      <td>NaN</td>\n",
       "      <td>2522</td>\n",
       "      <td>1855022</td>\n",
       "      <td>6539</td>\n",
       "      <td>1</td>\n",
       "      <td>1.0</td>\n",
       "      <td>24480.0</td>\n",
       "      <td>NaN</td>\n",
       "      <td>NaN</td>\n",
       "      <td>20159.0</td>\n",
       "    </tr>\n",
       "    <tr>\n",
       "      <th>90</th>\n",
       "      <td>0</td>\n",
       "      <td>170000</td>\n",
       "      <td>NaN</td>\n",
       "      <td>1004</td>\n",
       "      <td>2279109</td>\n",
       "      <td>5414</td>\n",
       "      <td>1</td>\n",
       "      <td>1.0</td>\n",
       "      <td>24480.0</td>\n",
       "      <td>NaN</td>\n",
       "      <td>NaN</td>\n",
       "      <td>20159.0</td>\n",
       "    </tr>\n",
       "    <tr>\n",
       "      <th>5</th>\n",
       "      <td>0</td>\n",
       "      <td>170000</td>\n",
       "      <td>NaN</td>\n",
       "      <td>3293</td>\n",
       "      <td>1177829</td>\n",
       "      <td>3347</td>\n",
       "      <td>1</td>\n",
       "      <td>1.0</td>\n",
       "      <td>24480.0</td>\n",
       "      <td>NaN</td>\n",
       "      <td>NaN</td>\n",
       "      <td>20159.0</td>\n",
       "    </tr>\n",
       "    <tr>\n",
       "      <th>101</th>\n",
       "      <td>0</td>\n",
       "      <td>170000</td>\n",
       "      <td>NaN</td>\n",
       "      <td>1259</td>\n",
       "      <td>2277789</td>\n",
       "      <td>3347</td>\n",
       "      <td>1</td>\n",
       "      <td>1.0</td>\n",
       "      <td>24480.0</td>\n",
       "      <td>NaN</td>\n",
       "      <td>NaN</td>\n",
       "      <td>20159.0</td>\n",
       "    </tr>\n",
       "    <tr>\n",
       "      <th>34</th>\n",
       "      <td>0</td>\n",
       "      <td>170000</td>\n",
       "      <td>NaN</td>\n",
       "      <td>4757</td>\n",
       "      <td>496624</td>\n",
       "      <td>2058</td>\n",
       "      <td>1</td>\n",
       "      <td>1.0</td>\n",
       "      <td>24480.0</td>\n",
       "      <td>NaN</td>\n",
       "      <td>NaN</td>\n",
       "      <td>20159.0</td>\n",
       "    </tr>\n",
       "  </tbody>\n",
       "</table>\n",
       "</div>"
      ],
      "text/plain": [
       "     label  clickTime  conversionTime  creativeID   userID  positionID  \\\n",
       "111      0     170000             NaN        2522  1855022        6539   \n",
       "90       0     170000             NaN        1004  2279109        5414   \n",
       "5        0     170000             NaN        3293  1177829        3347   \n",
       "101      0     170000             NaN        1259  2277789        3347   \n",
       "34       0     170000             NaN        4757   496624        2058   \n",
       "\n",
       "     connectionType  telecomsOperator  clickTime_min  conversionTime_min  \\\n",
       "111               1               1.0        24480.0                 NaN   \n",
       "90                1               1.0        24480.0                 NaN   \n",
       "5                 1               1.0        24480.0                 NaN   \n",
       "101               1               1.0        24480.0                 NaN   \n",
       "34                1               1.0        24480.0                 NaN   \n",
       "\n",
       "     deltaTime_min  delta_deadline_min  \n",
       "111            NaN             20159.0  \n",
       "90             NaN             20159.0  \n",
       "5              NaN             20159.0  \n",
       "101            NaN             20159.0  \n",
       "34             NaN             20159.0  "
      ]
     },
     "execution_count": 16,
     "metadata": {},
     "output_type": "execute_result"
    }
   ],
   "source": [
    "train_df['delta_deadline_min'] = 30 * 24 * 60 + 23 * 60 + 59 - train_df['clickTime_min']\n",
    "train_df.head()"
   ]
  },
  {
   "cell_type": "code",
   "execution_count": 17,
   "metadata": {
    "collapsed": false
   },
   "outputs": [],
   "source": [
    "train_df = train_df.merge(confidence_df, how='left', on='delta_deadline_min')"
   ]
  },
  {
   "cell_type": "code",
   "execution_count": 18,
   "metadata": {
    "collapsed": false
   },
   "outputs": [
    {
     "data": {
      "text/html": [
       "<div>\n",
       "<table border=\"1\" class=\"dataframe\">\n",
       "  <thead>\n",
       "    <tr style=\"text-align: right;\">\n",
       "      <th></th>\n",
       "      <th>label</th>\n",
       "      <th>clickTime</th>\n",
       "      <th>conversionTime</th>\n",
       "      <th>creativeID</th>\n",
       "      <th>userID</th>\n",
       "      <th>positionID</th>\n",
       "      <th>connectionType</th>\n",
       "      <th>telecomsOperator</th>\n",
       "      <th>clickTime_min</th>\n",
       "      <th>conversionTime_min</th>\n",
       "      <th>deltaTime_min</th>\n",
       "      <th>delta_deadline_min</th>\n",
       "      <th>confidence</th>\n",
       "    </tr>\n",
       "  </thead>\n",
       "  <tbody>\n",
       "    <tr>\n",
       "      <th>3749319</th>\n",
       "      <td>0</td>\n",
       "      <td>302359</td>\n",
       "      <td>NaN</td>\n",
       "      <td>6072</td>\n",
       "      <td>587482</td>\n",
       "      <td>788</td>\n",
       "      <td>1</td>\n",
       "      <td>3.0</td>\n",
       "      <td>44639.0</td>\n",
       "      <td>NaN</td>\n",
       "      <td>NaN</td>\n",
       "      <td>0.0</td>\n",
       "      <td>0.07718</td>\n",
       "    </tr>\n",
       "    <tr>\n",
       "      <th>3749320</th>\n",
       "      <td>0</td>\n",
       "      <td>302359</td>\n",
       "      <td>NaN</td>\n",
       "      <td>1617</td>\n",
       "      <td>111120</td>\n",
       "      <td>6936</td>\n",
       "      <td>1</td>\n",
       "      <td>2.0</td>\n",
       "      <td>44639.0</td>\n",
       "      <td>NaN</td>\n",
       "      <td>NaN</td>\n",
       "      <td>0.0</td>\n",
       "      <td>0.07718</td>\n",
       "    </tr>\n",
       "    <tr>\n",
       "      <th>3749321</th>\n",
       "      <td>0</td>\n",
       "      <td>302359</td>\n",
       "      <td>NaN</td>\n",
       "      <td>5187</td>\n",
       "      <td>1752993</td>\n",
       "      <td>7434</td>\n",
       "      <td>3</td>\n",
       "      <td>1.0</td>\n",
       "      <td>44639.0</td>\n",
       "      <td>NaN</td>\n",
       "      <td>NaN</td>\n",
       "      <td>0.0</td>\n",
       "      <td>0.07718</td>\n",
       "    </tr>\n",
       "    <tr>\n",
       "      <th>3749322</th>\n",
       "      <td>0</td>\n",
       "      <td>302359</td>\n",
       "      <td>NaN</td>\n",
       "      <td>4465</td>\n",
       "      <td>19488</td>\n",
       "      <td>7511</td>\n",
       "      <td>1</td>\n",
       "      <td>2.0</td>\n",
       "      <td>44639.0</td>\n",
       "      <td>NaN</td>\n",
       "      <td>NaN</td>\n",
       "      <td>0.0</td>\n",
       "      <td>0.07718</td>\n",
       "    </tr>\n",
       "    <tr>\n",
       "      <th>3749323</th>\n",
       "      <td>0</td>\n",
       "      <td>302359</td>\n",
       "      <td>NaN</td>\n",
       "      <td>3497</td>\n",
       "      <td>51953</td>\n",
       "      <td>1385</td>\n",
       "      <td>1</td>\n",
       "      <td>1.0</td>\n",
       "      <td>44639.0</td>\n",
       "      <td>NaN</td>\n",
       "      <td>NaN</td>\n",
       "      <td>0.0</td>\n",
       "      <td>0.07718</td>\n",
       "    </tr>\n",
       "  </tbody>\n",
       "</table>\n",
       "</div>"
      ],
      "text/plain": [
       "         label  clickTime  conversionTime  creativeID   userID  positionID  \\\n",
       "3749319      0     302359             NaN        6072   587482         788   \n",
       "3749320      0     302359             NaN        1617   111120        6936   \n",
       "3749321      0     302359             NaN        5187  1752993        7434   \n",
       "3749322      0     302359             NaN        4465    19488        7511   \n",
       "3749323      0     302359             NaN        3497    51953        1385   \n",
       "\n",
       "         connectionType  telecomsOperator  clickTime_min  conversionTime_min  \\\n",
       "3749319               1               3.0        44639.0                 NaN   \n",
       "3749320               1               2.0        44639.0                 NaN   \n",
       "3749321               3               1.0        44639.0                 NaN   \n",
       "3749322               1               2.0        44639.0                 NaN   \n",
       "3749323               1               1.0        44639.0                 NaN   \n",
       "\n",
       "         deltaTime_min  delta_deadline_min  confidence  \n",
       "3749319            NaN                 0.0     0.07718  \n",
       "3749320            NaN                 0.0     0.07718  \n",
       "3749321            NaN                 0.0     0.07718  \n",
       "3749322            NaN                 0.0     0.07718  \n",
       "3749323            NaN                 0.0     0.07718  "
      ]
     },
     "execution_count": 18,
     "metadata": {},
     "output_type": "execute_result"
    }
   ],
   "source": [
    "train_df.loc[train_df['delta_deadline_min'] == 0].head()"
   ]
  },
  {
   "cell_type": "code",
   "execution_count": 19,
   "metadata": {
    "collapsed": false
   },
   "outputs": [
    {
     "data": {
      "text/html": [
       "<div>\n",
       "<table border=\"1\" class=\"dataframe\">\n",
       "  <thead>\n",
       "    <tr style=\"text-align: right;\">\n",
       "      <th></th>\n",
       "      <th>label</th>\n",
       "      <th>clickTime</th>\n",
       "      <th>conversionTime</th>\n",
       "      <th>creativeID</th>\n",
       "      <th>userID</th>\n",
       "      <th>positionID</th>\n",
       "      <th>connectionType</th>\n",
       "      <th>telecomsOperator</th>\n",
       "      <th>clickTime_min</th>\n",
       "      <th>conversionTime_min</th>\n",
       "      <th>deltaTime_min</th>\n",
       "      <th>delta_deadline_min</th>\n",
       "      <th>confidence</th>\n",
       "    </tr>\n",
       "  </thead>\n",
       "  <tbody>\n",
       "    <tr>\n",
       "      <th>3749132</th>\n",
       "      <td>0</td>\n",
       "      <td>302358</td>\n",
       "      <td>NaN</td>\n",
       "      <td>3871</td>\n",
       "      <td>1307119</td>\n",
       "      <td>5886</td>\n",
       "      <td>1</td>\n",
       "      <td>1.0</td>\n",
       "      <td>44638.0</td>\n",
       "      <td>NaN</td>\n",
       "      <td>NaN</td>\n",
       "      <td>1.0</td>\n",
       "      <td>0.291609</td>\n",
       "    </tr>\n",
       "    <tr>\n",
       "      <th>3749133</th>\n",
       "      <td>0</td>\n",
       "      <td>302358</td>\n",
       "      <td>NaN</td>\n",
       "      <td>4494</td>\n",
       "      <td>1549316</td>\n",
       "      <td>5745</td>\n",
       "      <td>1</td>\n",
       "      <td>2.0</td>\n",
       "      <td>44638.0</td>\n",
       "      <td>NaN</td>\n",
       "      <td>NaN</td>\n",
       "      <td>1.0</td>\n",
       "      <td>0.291609</td>\n",
       "    </tr>\n",
       "    <tr>\n",
       "      <th>3749134</th>\n",
       "      <td>0</td>\n",
       "      <td>302358</td>\n",
       "      <td>NaN</td>\n",
       "      <td>4432</td>\n",
       "      <td>2516828</td>\n",
       "      <td>5637</td>\n",
       "      <td>1</td>\n",
       "      <td>1.0</td>\n",
       "      <td>44638.0</td>\n",
       "      <td>NaN</td>\n",
       "      <td>NaN</td>\n",
       "      <td>1.0</td>\n",
       "      <td>0.291609</td>\n",
       "    </tr>\n",
       "    <tr>\n",
       "      <th>3749135</th>\n",
       "      <td>0</td>\n",
       "      <td>302358</td>\n",
       "      <td>NaN</td>\n",
       "      <td>3305</td>\n",
       "      <td>1715660</td>\n",
       "      <td>6727</td>\n",
       "      <td>1</td>\n",
       "      <td>3.0</td>\n",
       "      <td>44638.0</td>\n",
       "      <td>NaN</td>\n",
       "      <td>NaN</td>\n",
       "      <td>1.0</td>\n",
       "      <td>0.291609</td>\n",
       "    </tr>\n",
       "    <tr>\n",
       "      <th>3749136</th>\n",
       "      <td>0</td>\n",
       "      <td>302358</td>\n",
       "      <td>NaN</td>\n",
       "      <td>3885</td>\n",
       "      <td>802404</td>\n",
       "      <td>4856</td>\n",
       "      <td>1</td>\n",
       "      <td>1.0</td>\n",
       "      <td>44638.0</td>\n",
       "      <td>NaN</td>\n",
       "      <td>NaN</td>\n",
       "      <td>1.0</td>\n",
       "      <td>0.291609</td>\n",
       "    </tr>\n",
       "  </tbody>\n",
       "</table>\n",
       "</div>"
      ],
      "text/plain": [
       "         label  clickTime  conversionTime  creativeID   userID  positionID  \\\n",
       "3749132      0     302358             NaN        3871  1307119        5886   \n",
       "3749133      0     302358             NaN        4494  1549316        5745   \n",
       "3749134      0     302358             NaN        4432  2516828        5637   \n",
       "3749135      0     302358             NaN        3305  1715660        6727   \n",
       "3749136      0     302358             NaN        3885   802404        4856   \n",
       "\n",
       "         connectionType  telecomsOperator  clickTime_min  conversionTime_min  \\\n",
       "3749132               1               1.0        44638.0                 NaN   \n",
       "3749133               1               2.0        44638.0                 NaN   \n",
       "3749134               1               1.0        44638.0                 NaN   \n",
       "3749135               1               3.0        44638.0                 NaN   \n",
       "3749136               1               1.0        44638.0                 NaN   \n",
       "\n",
       "         deltaTime_min  delta_deadline_min  confidence  \n",
       "3749132            NaN                 1.0    0.291609  \n",
       "3749133            NaN                 1.0    0.291609  \n",
       "3749134            NaN                 1.0    0.291609  \n",
       "3749135            NaN                 1.0    0.291609  \n",
       "3749136            NaN                 1.0    0.291609  "
      ]
     },
     "execution_count": 19,
     "metadata": {},
     "output_type": "execute_result"
    }
   ],
   "source": [
    "train_df.loc[train_df['delta_deadline_min'] == 1].head()"
   ]
  },
  {
   "cell_type": "code",
   "execution_count": 20,
   "metadata": {
    "collapsed": false
   },
   "outputs": [
    {
     "data": {
      "text/html": [
       "<div>\n",
       "<table border=\"1\" class=\"dataframe\">\n",
       "  <thead>\n",
       "    <tr style=\"text-align: right;\">\n",
       "      <th></th>\n",
       "      <th>label</th>\n",
       "      <th>clickTime</th>\n",
       "      <th>conversionTime</th>\n",
       "      <th>creativeID</th>\n",
       "      <th>userID</th>\n",
       "      <th>positionID</th>\n",
       "      <th>connectionType</th>\n",
       "      <th>telecomsOperator</th>\n",
       "      <th>clickTime_min</th>\n",
       "      <th>conversionTime_min</th>\n",
       "      <th>deltaTime_min</th>\n",
       "      <th>delta_deadline_min</th>\n",
       "      <th>confidence</th>\n",
       "    </tr>\n",
       "  </thead>\n",
       "  <tbody>\n",
       "    <tr>\n",
       "      <th>3748929</th>\n",
       "      <td>0</td>\n",
       "      <td>302357</td>\n",
       "      <td>NaN</td>\n",
       "      <td>6247</td>\n",
       "      <td>1332302</td>\n",
       "      <td>3365</td>\n",
       "      <td>1</td>\n",
       "      <td>3.0</td>\n",
       "      <td>44637.0</td>\n",
       "      <td>NaN</td>\n",
       "      <td>NaN</td>\n",
       "      <td>2.0</td>\n",
       "      <td>0.396399</td>\n",
       "    </tr>\n",
       "    <tr>\n",
       "      <th>3748930</th>\n",
       "      <td>0</td>\n",
       "      <td>302357</td>\n",
       "      <td>NaN</td>\n",
       "      <td>1143</td>\n",
       "      <td>422392</td>\n",
       "      <td>1180</td>\n",
       "      <td>1</td>\n",
       "      <td>1.0</td>\n",
       "      <td>44637.0</td>\n",
       "      <td>NaN</td>\n",
       "      <td>NaN</td>\n",
       "      <td>2.0</td>\n",
       "      <td>0.396399</td>\n",
       "    </tr>\n",
       "    <tr>\n",
       "      <th>3748931</th>\n",
       "      <td>0</td>\n",
       "      <td>302357</td>\n",
       "      <td>NaN</td>\n",
       "      <td>5187</td>\n",
       "      <td>1076135</td>\n",
       "      <td>2188</td>\n",
       "      <td>1</td>\n",
       "      <td>1.0</td>\n",
       "      <td>44637.0</td>\n",
       "      <td>NaN</td>\n",
       "      <td>NaN</td>\n",
       "      <td>2.0</td>\n",
       "      <td>0.396399</td>\n",
       "    </tr>\n",
       "    <tr>\n",
       "      <th>3748932</th>\n",
       "      <td>0</td>\n",
       "      <td>302357</td>\n",
       "      <td>NaN</td>\n",
       "      <td>863</td>\n",
       "      <td>1386853</td>\n",
       "      <td>6315</td>\n",
       "      <td>2</td>\n",
       "      <td>1.0</td>\n",
       "      <td>44637.0</td>\n",
       "      <td>NaN</td>\n",
       "      <td>NaN</td>\n",
       "      <td>2.0</td>\n",
       "      <td>0.396399</td>\n",
       "    </tr>\n",
       "    <tr>\n",
       "      <th>3748933</th>\n",
       "      <td>0</td>\n",
       "      <td>302357</td>\n",
       "      <td>NaN</td>\n",
       "      <td>2122</td>\n",
       "      <td>1169898</td>\n",
       "      <td>7297</td>\n",
       "      <td>0</td>\n",
       "      <td>3.0</td>\n",
       "      <td>44637.0</td>\n",
       "      <td>NaN</td>\n",
       "      <td>NaN</td>\n",
       "      <td>2.0</td>\n",
       "      <td>0.396399</td>\n",
       "    </tr>\n",
       "  </tbody>\n",
       "</table>\n",
       "</div>"
      ],
      "text/plain": [
       "         label  clickTime  conversionTime  creativeID   userID  positionID  \\\n",
       "3748929      0     302357             NaN        6247  1332302        3365   \n",
       "3748930      0     302357             NaN        1143   422392        1180   \n",
       "3748931      0     302357             NaN        5187  1076135        2188   \n",
       "3748932      0     302357             NaN         863  1386853        6315   \n",
       "3748933      0     302357             NaN        2122  1169898        7297   \n",
       "\n",
       "         connectionType  telecomsOperator  clickTime_min  conversionTime_min  \\\n",
       "3748929               1               3.0        44637.0                 NaN   \n",
       "3748930               1               1.0        44637.0                 NaN   \n",
       "3748931               1               1.0        44637.0                 NaN   \n",
       "3748932               2               1.0        44637.0                 NaN   \n",
       "3748933               0               3.0        44637.0                 NaN   \n",
       "\n",
       "         deltaTime_min  delta_deadline_min  confidence  \n",
       "3748929            NaN                 2.0    0.396399  \n",
       "3748930            NaN                 2.0    0.396399  \n",
       "3748931            NaN                 2.0    0.396399  \n",
       "3748932            NaN                 2.0    0.396399  \n",
       "3748933            NaN                 2.0    0.396399  "
      ]
     },
     "execution_count": 20,
     "metadata": {},
     "output_type": "execute_result"
    }
   ],
   "source": [
    "train_df.loc[train_df['delta_deadline_min'] == 2].head()"
   ]
  },
  {
   "cell_type": "code",
   "execution_count": 21,
   "metadata": {
    "collapsed": false
   },
   "outputs": [],
   "source": [
    "# 所有正样本的置信度都为1, 5天以上的样本置信度为1\n",
    "indexer = (train_df['label'] == 1) | (train_df['delta_deadline_min'] > 7153)\n",
    "train_df.loc[indexer, 'confidence'] = 1"
   ]
  },
  {
   "cell_type": "code",
   "execution_count": 22,
   "metadata": {
    "collapsed": false
   },
   "outputs": [
    {
     "data": {
      "image/png": "[encoded data removed]",
      "text/plain": [
       "<matplotlib.figure.Figure at 0x7f8646634dd8>"
      ]
     },
     "metadata": {},
     "output_type": "display_data"
    }
   ],
   "source": [
    "train_df.loc[train_df['delta_deadline_min'] <= 7153].plot(x='delta_deadline_min', y='confidence', figsize=(16,4), kind='scatter')\n",
    "plt.show()"
   ]
  },
  {
   "cell_type": "code",
   "execution_count": 23,
   "metadata": {
    "collapsed": false
   },
   "outputs": [
    {
     "data": {
      "text/html": [
       "<div>\n",
       "<table border=\"1\" class=\"dataframe\">\n",
       "  <thead>\n",
       "    <tr style=\"text-align: right;\">\n",
       "      <th></th>\n",
       "      <th>label</th>\n",
       "      <th>clickTime</th>\n",
       "      <th>conversionTime</th>\n",
       "      <th>creativeID</th>\n",
       "      <th>userID</th>\n",
       "      <th>positionID</th>\n",
       "      <th>connectionType</th>\n",
       "      <th>telecomsOperator</th>\n",
       "      <th>clickTime_min</th>\n",
       "      <th>conversionTime_min</th>\n",
       "      <th>deltaTime_min</th>\n",
       "      <th>delta_deadline_min</th>\n",
       "      <th>confidence</th>\n",
       "    </tr>\n",
       "  </thead>\n",
       "  <tbody>\n",
       "  </tbody>\n",
       "</table>\n",
       "</div>"
      ],
      "text/plain": [
       "Empty DataFrame\n",
       "Columns: [label, clickTime, conversionTime, creativeID, userID, positionID, connectionType, telecomsOperator, clickTime_min, conversionTime_min, deltaTime_min, delta_deadline_min, confidence]\n",
       "Index: []"
      ]
     },
     "execution_count": 23,
     "metadata": {},
     "output_type": "execute_result"
    }
   ],
   "source": [
    "train_df.loc[train_df['confidence'].isnull()]"
   ]
  },
  {
   "cell_type": "code",
   "execution_count": null,
   "metadata": {
    "collapsed": true
   },
   "outputs": [],
   "source": []
  }
 ],
 "metadata": {
  "kernelspec": {
   "display_name": "Python 3",
   "language": "python",
   "name": "python3"
  },
  "language_info": {
   "codemirror_mode": {
    "name": "ipython",
    "version": 3
   },
   "file_extension": ".py",
   "mimetype": "text/x-python",
   "name": "python",
   "nbconvert_exporter": "python",
   "pygments_lexer": "ipython3",
   "version": "3.6.0"
  }
 },
 "nbformat": 4,
 "nbformat_minor": 2
}
