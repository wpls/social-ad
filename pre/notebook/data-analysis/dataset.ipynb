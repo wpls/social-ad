{
 "cells": [
  {
   "cell_type": "code",
   "execution_count": 1,
   "metadata": {
    "collapsed": true
   },
   "outputs": [],
   "source": [
    "import pandas as pd\n",
    "from pandas import DataFrame\n",
    "from pandas import Series\n",
    "\n",
    "import numpy as np\n",
    "import matplotlib.pyplot as plt"
   ]
  },
  {
   "cell_type": "markdown",
   "metadata": {},
   "source": [
    "### 设置路径"
   ]
  },
  {
   "cell_type": "code",
   "execution_count": 2,
   "metadata": {
    "collapsed": true
   },
   "outputs": [],
   "source": [
    "path_pre = '../../'\n",
    "path_original_dataset = path_pre + 'original-dataset/'\n",
    "path_intermediate_dataset = path_pre + 'intermediate-dataset/'"
   ]
  },
  {
   "cell_type": "markdown",
   "metadata": {},
   "source": [
    "### 加载数据"
   ]
  },
  {
   "cell_type": "code",
   "execution_count": 3,
   "metadata": {
    "collapsed": false
   },
   "outputs": [
    {
     "data": {
      "text/html": [
       "<div>\n",
       "<table border=\"1\" class=\"dataframe\">\n",
       "  <thead>\n",
       "    <tr style=\"text-align: right;\">\n",
       "      <th></th>\n",
       "      <th>creativeID</th>\n",
       "      <th>adID</th>\n",
       "      <th>camgaignID</th>\n",
       "      <th>advertiserID</th>\n",
       "      <th>appID</th>\n",
       "      <th>appPlatform</th>\n",
       "    </tr>\n",
       "  </thead>\n",
       "  <tbody>\n",
       "    <tr>\n",
       "      <th>0</th>\n",
       "      <td>4079</td>\n",
       "      <td>2318</td>\n",
       "      <td>147</td>\n",
       "      <td>80</td>\n",
       "      <td>14</td>\n",
       "      <td>2</td>\n",
       "    </tr>\n",
       "    <tr>\n",
       "      <th>1</th>\n",
       "      <td>4565</td>\n",
       "      <td>3593</td>\n",
       "      <td>632</td>\n",
       "      <td>3</td>\n",
       "      <td>465</td>\n",
       "      <td>1</td>\n",
       "    </tr>\n",
       "    <tr>\n",
       "      <th>2</th>\n",
       "      <td>3170</td>\n",
       "      <td>1593</td>\n",
       "      <td>205</td>\n",
       "      <td>54</td>\n",
       "      <td>389</td>\n",
       "      <td>1</td>\n",
       "    </tr>\n",
       "    <tr>\n",
       "      <th>3</th>\n",
       "      <td>6566</td>\n",
       "      <td>2390</td>\n",
       "      <td>205</td>\n",
       "      <td>54</td>\n",
       "      <td>389</td>\n",
       "      <td>1</td>\n",
       "    </tr>\n",
       "    <tr>\n",
       "      <th>4</th>\n",
       "      <td>5187</td>\n",
       "      <td>411</td>\n",
       "      <td>564</td>\n",
       "      <td>3</td>\n",
       "      <td>465</td>\n",
       "      <td>1</td>\n",
       "    </tr>\n",
       "  </tbody>\n",
       "</table>\n",
       "</div>"
      ],
      "text/plain": [
       "   creativeID  adID  camgaignID  advertiserID  appID  appPlatform\n",
       "0        4079  2318         147            80     14            2\n",
       "1        4565  3593         632             3    465            1\n",
       "2        3170  1593         205            54    389            1\n",
       "3        6566  2390         205            54    389            1\n",
       "4        5187   411         564             3    465            1"
      ]
     },
     "execution_count": 3,
     "metadata": {},
     "output_type": "execute_result"
    }
   ],
   "source": [
    "ad = pd.read_csv(path_original_dataset + 'ad.csv')\n",
    "ad.head()"
   ]
  },
  {
   "cell_type": "code",
   "execution_count": 4,
   "metadata": {
    "collapsed": false
   },
   "outputs": [
    {
     "data": {
      "text/html": [
       "<div>\n",
       "<table border=\"1\" class=\"dataframe\">\n",
       "  <thead>\n",
       "    <tr style=\"text-align: right;\">\n",
       "      <th></th>\n",
       "      <th>appID</th>\n",
       "      <th>appCategory</th>\n",
       "    </tr>\n",
       "  </thead>\n",
       "  <tbody>\n",
       "    <tr>\n",
       "      <th>0</th>\n",
       "      <td>14</td>\n",
       "      <td>2</td>\n",
       "    </tr>\n",
       "    <tr>\n",
       "      <th>1</th>\n",
       "      <td>25</td>\n",
       "      <td>203</td>\n",
       "    </tr>\n",
       "    <tr>\n",
       "      <th>2</th>\n",
       "      <td>68</td>\n",
       "      <td>104</td>\n",
       "    </tr>\n",
       "    <tr>\n",
       "      <th>3</th>\n",
       "      <td>75</td>\n",
       "      <td>402</td>\n",
       "    </tr>\n",
       "    <tr>\n",
       "      <th>4</th>\n",
       "      <td>83</td>\n",
       "      <td>203</td>\n",
       "    </tr>\n",
       "  </tbody>\n",
       "</table>\n",
       "</div>"
      ],
      "text/plain": [
       "   appID  appCategory\n",
       "0     14            2\n",
       "1     25          203\n",
       "2     68          104\n",
       "3     75          402\n",
       "4     83          203"
      ]
     },
     "execution_count": 4,
     "metadata": {},
     "output_type": "execute_result"
    }
   ],
   "source": [
    "app_cat = pd.read_csv(path_original_dataset + 'app_categories.csv')\n",
    "app_cat.head()"
   ]
  },
  {
   "cell_type": "code",
   "execution_count": 5,
   "metadata": {
    "collapsed": false
   },
   "outputs": [
    {
     "data": {
      "text/html": [
       "<div>\n",
       "<table border=\"1\" class=\"dataframe\">\n",
       "  <thead>\n",
       "    <tr style=\"text-align: right;\">\n",
       "      <th></th>\n",
       "      <th>creativeID</th>\n",
       "      <th>adID</th>\n",
       "      <th>camgaignID</th>\n",
       "      <th>advertiserID</th>\n",
       "      <th>appID</th>\n",
       "      <th>appPlatform</th>\n",
       "      <th>appCategory</th>\n",
       "    </tr>\n",
       "  </thead>\n",
       "  <tbody>\n",
       "    <tr>\n",
       "      <th>0</th>\n",
       "      <td>4079</td>\n",
       "      <td>2318</td>\n",
       "      <td>147</td>\n",
       "      <td>80</td>\n",
       "      <td>14</td>\n",
       "      <td>2</td>\n",
       "      <td>2</td>\n",
       "    </tr>\n",
       "    <tr>\n",
       "      <th>1</th>\n",
       "      <td>4565</td>\n",
       "      <td>3593</td>\n",
       "      <td>632</td>\n",
       "      <td>3</td>\n",
       "      <td>465</td>\n",
       "      <td>1</td>\n",
       "      <td>209</td>\n",
       "    </tr>\n",
       "    <tr>\n",
       "      <th>2</th>\n",
       "      <td>3170</td>\n",
       "      <td>1593</td>\n",
       "      <td>205</td>\n",
       "      <td>54</td>\n",
       "      <td>389</td>\n",
       "      <td>1</td>\n",
       "      <td>108</td>\n",
       "    </tr>\n",
       "    <tr>\n",
       "      <th>3</th>\n",
       "      <td>6566</td>\n",
       "      <td>2390</td>\n",
       "      <td>205</td>\n",
       "      <td>54</td>\n",
       "      <td>389</td>\n",
       "      <td>1</td>\n",
       "      <td>108</td>\n",
       "    </tr>\n",
       "    <tr>\n",
       "      <th>4</th>\n",
       "      <td>5187</td>\n",
       "      <td>411</td>\n",
       "      <td>564</td>\n",
       "      <td>3</td>\n",
       "      <td>465</td>\n",
       "      <td>1</td>\n",
       "      <td>209</td>\n",
       "    </tr>\n",
       "  </tbody>\n",
       "</table>\n",
       "</div>"
      ],
      "text/plain": [
       "   creativeID  adID  camgaignID  advertiserID  appID  appPlatform  appCategory\n",
       "0        4079  2318         147            80     14            2            2\n",
       "1        4565  3593         632             3    465            1          209\n",
       "2        3170  1593         205            54    389            1          108\n",
       "3        6566  2390         205            54    389            1          108\n",
       "4        5187   411         564             3    465            1          209"
      ]
     },
     "execution_count": 5,
     "metadata": {},
     "output_type": "execute_result"
    }
   ],
   "source": [
    "ad = ad.merge(app_cat, how='left', on='appID')\n",
    "ad.head()"
   ]
  },
  {
   "cell_type": "code",
   "execution_count": 6,
   "metadata": {
    "collapsed": false
   },
   "outputs": [
    {
     "data": {
      "text/plain": [
       "197"
      ]
     },
     "execution_count": 6,
     "metadata": {},
     "output_type": "execute_result"
    }
   ],
   "source": [
    "del app_cat\n",
    "import gc\n",
    "gc.collect()"
   ]
  },
  {
   "cell_type": "code",
   "execution_count": 7,
   "metadata": {
    "collapsed": false
   },
   "outputs": [
    {
     "data": {
      "text/html": [
       "<div>\n",
       "<table border=\"1\" class=\"dataframe\">\n",
       "  <thead>\n",
       "    <tr style=\"text-align: right;\">\n",
       "      <th></th>\n",
       "      <th>userID</th>\n",
       "      <th>age</th>\n",
       "      <th>gender</th>\n",
       "      <th>education</th>\n",
       "      <th>marriageStatus</th>\n",
       "      <th>haveBaby</th>\n",
       "      <th>hometown</th>\n",
       "      <th>residence</th>\n",
       "    </tr>\n",
       "  </thead>\n",
       "  <tbody>\n",
       "    <tr>\n",
       "      <th>0</th>\n",
       "      <td>1</td>\n",
       "      <td>42</td>\n",
       "      <td>1</td>\n",
       "      <td>0</td>\n",
       "      <td>2</td>\n",
       "      <td>0</td>\n",
       "      <td>5</td>\n",
       "      <td>5</td>\n",
       "    </tr>\n",
       "    <tr>\n",
       "      <th>1</th>\n",
       "      <td>2</td>\n",
       "      <td>18</td>\n",
       "      <td>1</td>\n",
       "      <td>5</td>\n",
       "      <td>1</td>\n",
       "      <td>0</td>\n",
       "      <td>14</td>\n",
       "      <td>14</td>\n",
       "    </tr>\n",
       "    <tr>\n",
       "      <th>2</th>\n",
       "      <td>3</td>\n",
       "      <td>0</td>\n",
       "      <td>2</td>\n",
       "      <td>4</td>\n",
       "      <td>0</td>\n",
       "      <td>0</td>\n",
       "      <td>0</td>\n",
       "      <td>0</td>\n",
       "    </tr>\n",
       "    <tr>\n",
       "      <th>3</th>\n",
       "      <td>4</td>\n",
       "      <td>21</td>\n",
       "      <td>2</td>\n",
       "      <td>5</td>\n",
       "      <td>3</td>\n",
       "      <td>0</td>\n",
       "      <td>6</td>\n",
       "      <td>6</td>\n",
       "    </tr>\n",
       "    <tr>\n",
       "      <th>4</th>\n",
       "      <td>5</td>\n",
       "      <td>22</td>\n",
       "      <td>2</td>\n",
       "      <td>0</td>\n",
       "      <td>0</td>\n",
       "      <td>0</td>\n",
       "      <td>0</td>\n",
       "      <td>13</td>\n",
       "    </tr>\n",
       "  </tbody>\n",
       "</table>\n",
       "</div>"
      ],
      "text/plain": [
       "   userID  age  gender  education  marriageStatus  haveBaby  hometown  \\\n",
       "0       1   42       1          0               2         0         5   \n",
       "1       2   18       1          5               1         0        14   \n",
       "2       3    0       2          4               0         0         0   \n",
       "3       4   21       2          5               3         0         6   \n",
       "4       5   22       2          0               0         0         0   \n",
       "\n",
       "   residence  \n",
       "0          5  \n",
       "1         14  \n",
       "2          0  \n",
       "3          6  \n",
       "4         13  "
      ]
     },
     "execution_count": 7,
     "metadata": {},
     "output_type": "execute_result"
    }
   ],
   "source": [
    "user = pd.read_hdf(path_intermediate_dataset + 'user.h5')\n",
    "user.head()"
   ]
  },
  {
   "cell_type": "code",
   "execution_count": 8,
   "metadata": {
    "collapsed": false
   },
   "outputs": [
    {
     "data": {
      "text/html": [
       "<div>\n",
       "<table border=\"1\" class=\"dataframe\">\n",
       "  <thead>\n",
       "    <tr style=\"text-align: right;\">\n",
       "      <th></th>\n",
       "      <th>label</th>\n",
       "      <th>clickTime</th>\n",
       "      <th>conversionTime</th>\n",
       "      <th>creativeID</th>\n",
       "      <th>userID</th>\n",
       "      <th>positionID</th>\n",
       "      <th>connectionType</th>\n",
       "      <th>telecomsOperator</th>\n",
       "    </tr>\n",
       "  </thead>\n",
       "  <tbody>\n",
       "    <tr>\n",
       "      <th>0</th>\n",
       "      <td>0</td>\n",
       "      <td>170000</td>\n",
       "      <td>NaN</td>\n",
       "      <td>3089</td>\n",
       "      <td>2798058</td>\n",
       "      <td>293</td>\n",
       "      <td>1</td>\n",
       "      <td>1</td>\n",
       "    </tr>\n",
       "    <tr>\n",
       "      <th>1</th>\n",
       "      <td>0</td>\n",
       "      <td>170000</td>\n",
       "      <td>NaN</td>\n",
       "      <td>1259</td>\n",
       "      <td>463234</td>\n",
       "      <td>6161</td>\n",
       "      <td>1</td>\n",
       "      <td>2</td>\n",
       "    </tr>\n",
       "    <tr>\n",
       "      <th>2</th>\n",
       "      <td>0</td>\n",
       "      <td>170000</td>\n",
       "      <td>NaN</td>\n",
       "      <td>4465</td>\n",
       "      <td>1857485</td>\n",
       "      <td>7434</td>\n",
       "      <td>4</td>\n",
       "      <td>1</td>\n",
       "    </tr>\n",
       "    <tr>\n",
       "      <th>3</th>\n",
       "      <td>0</td>\n",
       "      <td>170000</td>\n",
       "      <td>NaN</td>\n",
       "      <td>1004</td>\n",
       "      <td>2038823</td>\n",
       "      <td>977</td>\n",
       "      <td>1</td>\n",
       "      <td>1</td>\n",
       "    </tr>\n",
       "    <tr>\n",
       "      <th>4</th>\n",
       "      <td>0</td>\n",
       "      <td>170000</td>\n",
       "      <td>NaN</td>\n",
       "      <td>1887</td>\n",
       "      <td>2015141</td>\n",
       "      <td>3688</td>\n",
       "      <td>1</td>\n",
       "      <td>1</td>\n",
       "    </tr>\n",
       "  </tbody>\n",
       "</table>\n",
       "</div>"
      ],
      "text/plain": [
       "   label  clickTime  conversionTime  creativeID   userID  positionID  \\\n",
       "0      0     170000             NaN        3089  2798058         293   \n",
       "1      0     170000             NaN        1259   463234        6161   \n",
       "2      0     170000             NaN        4465  1857485        7434   \n",
       "3      0     170000             NaN        1004  2038823         977   \n",
       "4      0     170000             NaN        1887  2015141        3688   \n",
       "\n",
       "   connectionType  telecomsOperator  \n",
       "0               1                 1  \n",
       "1               1                 2  \n",
       "2               4                 1  \n",
       "3               1                 1  \n",
       "4               1                 1  "
      ]
     },
     "execution_count": 8,
     "metadata": {},
     "output_type": "execute_result"
    }
   ],
   "source": [
    "context = pd.read_csv(path_original_dataset + 'train.csv')\n",
    "context.head()"
   ]
  },
  {
   "cell_type": "code",
   "execution_count": 9,
   "metadata": {
    "collapsed": false
   },
   "outputs": [
    {
     "data": {
      "text/html": [
       "<div>\n",
       "<table border=\"1\" class=\"dataframe\">\n",
       "  <thead>\n",
       "    <tr style=\"text-align: right;\">\n",
       "      <th></th>\n",
       "      <th>positionID</th>\n",
       "      <th>sitesetID</th>\n",
       "      <th>positionType</th>\n",
       "    </tr>\n",
       "  </thead>\n",
       "  <tbody>\n",
       "    <tr>\n",
       "      <th>0</th>\n",
       "      <td>2150</td>\n",
       "      <td>1</td>\n",
       "      <td>0</td>\n",
       "    </tr>\n",
       "    <tr>\n",
       "      <th>1</th>\n",
       "      <td>2579</td>\n",
       "      <td>1</td>\n",
       "      <td>0</td>\n",
       "    </tr>\n",
       "    <tr>\n",
       "      <th>2</th>\n",
       "      <td>3322</td>\n",
       "      <td>1</td>\n",
       "      <td>0</td>\n",
       "    </tr>\n",
       "    <tr>\n",
       "      <th>3</th>\n",
       "      <td>5726</td>\n",
       "      <td>1</td>\n",
       "      <td>0</td>\n",
       "    </tr>\n",
       "    <tr>\n",
       "      <th>4</th>\n",
       "      <td>4522</td>\n",
       "      <td>2</td>\n",
       "      <td>0</td>\n",
       "    </tr>\n",
       "  </tbody>\n",
       "</table>\n",
       "</div>"
      ],
      "text/plain": [
       "   positionID  sitesetID  positionType\n",
       "0        2150          1             0\n",
       "1        2579          1             0\n",
       "2        3322          1             0\n",
       "3        5726          1             0\n",
       "4        4522          2             0"
      ]
     },
     "execution_count": 9,
     "metadata": {},
     "output_type": "execute_result"
    }
   ],
   "source": [
    "pos = pd.read_csv(path_original_dataset + 'position.csv')\n",
    "pos.head()"
   ]
  },
  {
   "cell_type": "code",
   "execution_count": 10,
   "metadata": {
    "collapsed": false
   },
   "outputs": [
    {
     "data": {
      "text/html": [
       "<div>\n",
       "<table border=\"1\" class=\"dataframe\">\n",
       "  <thead>\n",
       "    <tr style=\"text-align: right;\">\n",
       "      <th></th>\n",
       "      <th>label</th>\n",
       "      <th>clickTime</th>\n",
       "      <th>conversionTime</th>\n",
       "      <th>creativeID</th>\n",
       "      <th>userID</th>\n",
       "      <th>positionID</th>\n",
       "      <th>connectionType</th>\n",
       "      <th>telecomsOperator</th>\n",
       "      <th>sitesetID</th>\n",
       "      <th>positionType</th>\n",
       "    </tr>\n",
       "  </thead>\n",
       "  <tbody>\n",
       "    <tr>\n",
       "      <th>0</th>\n",
       "      <td>0</td>\n",
       "      <td>170000</td>\n",
       "      <td>NaN</td>\n",
       "      <td>3089</td>\n",
       "      <td>2798058</td>\n",
       "      <td>293</td>\n",
       "      <td>1</td>\n",
       "      <td>1</td>\n",
       "      <td>0</td>\n",
       "      <td>3</td>\n",
       "    </tr>\n",
       "    <tr>\n",
       "      <th>1</th>\n",
       "      <td>0</td>\n",
       "      <td>170000</td>\n",
       "      <td>NaN</td>\n",
       "      <td>1259</td>\n",
       "      <td>463234</td>\n",
       "      <td>6161</td>\n",
       "      <td>1</td>\n",
       "      <td>2</td>\n",
       "      <td>0</td>\n",
       "      <td>1</td>\n",
       "    </tr>\n",
       "    <tr>\n",
       "      <th>2</th>\n",
       "      <td>0</td>\n",
       "      <td>170000</td>\n",
       "      <td>NaN</td>\n",
       "      <td>4465</td>\n",
       "      <td>1857485</td>\n",
       "      <td>7434</td>\n",
       "      <td>4</td>\n",
       "      <td>1</td>\n",
       "      <td>0</td>\n",
       "      <td>1</td>\n",
       "    </tr>\n",
       "    <tr>\n",
       "      <th>3</th>\n",
       "      <td>0</td>\n",
       "      <td>170000</td>\n",
       "      <td>NaN</td>\n",
       "      <td>1004</td>\n",
       "      <td>2038823</td>\n",
       "      <td>977</td>\n",
       "      <td>1</td>\n",
       "      <td>1</td>\n",
       "      <td>0</td>\n",
       "      <td>1</td>\n",
       "    </tr>\n",
       "    <tr>\n",
       "      <th>4</th>\n",
       "      <td>0</td>\n",
       "      <td>170000</td>\n",
       "      <td>NaN</td>\n",
       "      <td>1887</td>\n",
       "      <td>2015141</td>\n",
       "      <td>3688</td>\n",
       "      <td>1</td>\n",
       "      <td>1</td>\n",
       "      <td>0</td>\n",
       "      <td>1</td>\n",
       "    </tr>\n",
       "  </tbody>\n",
       "</table>\n",
       "</div>"
      ],
      "text/plain": [
       "   label  clickTime  conversionTime  creativeID   userID  positionID  \\\n",
       "0      0     170000             NaN        3089  2798058         293   \n",
       "1      0     170000             NaN        1259   463234        6161   \n",
       "2      0     170000             NaN        4465  1857485        7434   \n",
       "3      0     170000             NaN        1004  2038823         977   \n",
       "4      0     170000             NaN        1887  2015141        3688   \n",
       "\n",
       "   connectionType  telecomsOperator  sitesetID  positionType  \n",
       "0               1                 1          0             3  \n",
       "1               1                 2          0             1  \n",
       "2               4                 1          0             1  \n",
       "3               1                 1          0             1  \n",
       "4               1                 1          0             1  "
      ]
     },
     "execution_count": 10,
     "metadata": {},
     "output_type": "execute_result"
    }
   ],
   "source": [
    "context = context.merge(pos, how='left', on='positionID')\n",
    "context.head()"
   ]
  },
  {
   "cell_type": "code",
   "execution_count": 11,
   "metadata": {
    "collapsed": false
   },
   "outputs": [
    {
     "data": {
      "text/plain": [
       "122"
      ]
     },
     "execution_count": 11,
     "metadata": {},
     "output_type": "execute_result"
    }
   ],
   "source": [
    "del pos\n",
    "gc.collect()"
   ]
  },
  {
   "cell_type": "code",
   "execution_count": 12,
   "metadata": {
    "collapsed": false,
    "scrolled": true
   },
   "outputs": [
    {
     "data": {
      "text/html": [
       "<div>\n",
       "<table border=\"1\" class=\"dataframe\">\n",
       "  <thead>\n",
       "    <tr style=\"text-align: right;\">\n",
       "      <th></th>\n",
       "      <th>label</th>\n",
       "      <th>clickTime</th>\n",
       "      <th>conversionTime</th>\n",
       "      <th>creativeID</th>\n",
       "      <th>userID</th>\n",
       "      <th>positionID</th>\n",
       "      <th>connectionType</th>\n",
       "      <th>telecomsOperator</th>\n",
       "      <th>sitesetID</th>\n",
       "      <th>positionType</th>\n",
       "      <th>...</th>\n",
       "      <th>marriageStatus</th>\n",
       "      <th>haveBaby</th>\n",
       "      <th>hometown</th>\n",
       "      <th>residence</th>\n",
       "      <th>adID</th>\n",
       "      <th>camgaignID</th>\n",
       "      <th>advertiserID</th>\n",
       "      <th>appID</th>\n",
       "      <th>appPlatform</th>\n",
       "      <th>appCategory</th>\n",
       "    </tr>\n",
       "  </thead>\n",
       "  <tbody>\n",
       "    <tr>\n",
       "      <th>0</th>\n",
       "      <td>0</td>\n",
       "      <td>170000</td>\n",
       "      <td>NaN</td>\n",
       "      <td>3089</td>\n",
       "      <td>2798058</td>\n",
       "      <td>293</td>\n",
       "      <td>1</td>\n",
       "      <td>1</td>\n",
       "      <td>0</td>\n",
       "      <td>3</td>\n",
       "      <td>...</td>\n",
       "      <td>3</td>\n",
       "      <td>1</td>\n",
       "      <td>0</td>\n",
       "      <td>13</td>\n",
       "      <td>1321</td>\n",
       "      <td>83</td>\n",
       "      <td>10</td>\n",
       "      <td>434</td>\n",
       "      <td>1</td>\n",
       "      <td>108</td>\n",
       "    </tr>\n",
       "    <tr>\n",
       "      <th>1</th>\n",
       "      <td>0</td>\n",
       "      <td>170000</td>\n",
       "      <td>NaN</td>\n",
       "      <td>1259</td>\n",
       "      <td>463234</td>\n",
       "      <td>6161</td>\n",
       "      <td>1</td>\n",
       "      <td>2</td>\n",
       "      <td>0</td>\n",
       "      <td>1</td>\n",
       "      <td>...</td>\n",
       "      <td>1</td>\n",
       "      <td>0</td>\n",
       "      <td>0</td>\n",
       "      <td>2</td>\n",
       "      <td>1535</td>\n",
       "      <td>685</td>\n",
       "      <td>80</td>\n",
       "      <td>14</td>\n",
       "      <td>2</td>\n",
       "      <td>2</td>\n",
       "    </tr>\n",
       "    <tr>\n",
       "      <th>2</th>\n",
       "      <td>0</td>\n",
       "      <td>170000</td>\n",
       "      <td>NaN</td>\n",
       "      <td>4465</td>\n",
       "      <td>1857485</td>\n",
       "      <td>7434</td>\n",
       "      <td>4</td>\n",
       "      <td>1</td>\n",
       "      <td>0</td>\n",
       "      <td>1</td>\n",
       "      <td>...</td>\n",
       "      <td>0</td>\n",
       "      <td>0</td>\n",
       "      <td>0</td>\n",
       "      <td>15</td>\n",
       "      <td>147</td>\n",
       "      <td>460</td>\n",
       "      <td>3</td>\n",
       "      <td>465</td>\n",
       "      <td>1</td>\n",
       "      <td>209</td>\n",
       "    </tr>\n",
       "    <tr>\n",
       "      <th>3</th>\n",
       "      <td>0</td>\n",
       "      <td>170000</td>\n",
       "      <td>NaN</td>\n",
       "      <td>1004</td>\n",
       "      <td>2038823</td>\n",
       "      <td>977</td>\n",
       "      <td>1</td>\n",
       "      <td>1</td>\n",
       "      <td>0</td>\n",
       "      <td>1</td>\n",
       "      <td>...</td>\n",
       "      <td>0</td>\n",
       "      <td>0</td>\n",
       "      <td>0</td>\n",
       "      <td>10</td>\n",
       "      <td>411</td>\n",
       "      <td>564</td>\n",
       "      <td>3</td>\n",
       "      <td>465</td>\n",
       "      <td>1</td>\n",
       "      <td>209</td>\n",
       "    </tr>\n",
       "    <tr>\n",
       "      <th>4</th>\n",
       "      <td>0</td>\n",
       "      <td>170000</td>\n",
       "      <td>NaN</td>\n",
       "      <td>1887</td>\n",
       "      <td>2015141</td>\n",
       "      <td>3688</td>\n",
       "      <td>1</td>\n",
       "      <td>1</td>\n",
       "      <td>0</td>\n",
       "      <td>1</td>\n",
       "      <td>...</td>\n",
       "      <td>2</td>\n",
       "      <td>0</td>\n",
       "      <td>10</td>\n",
       "      <td>10</td>\n",
       "      <td>369</td>\n",
       "      <td>144</td>\n",
       "      <td>84</td>\n",
       "      <td>360</td>\n",
       "      <td>1</td>\n",
       "      <td>201</td>\n",
       "    </tr>\n",
       "  </tbody>\n",
       "</table>\n",
       "<p>5 rows × 23 columns</p>\n",
       "</div>"
      ],
      "text/plain": [
       "   label  clickTime  conversionTime  creativeID   userID  positionID  \\\n",
       "0      0     170000             NaN        3089  2798058         293   \n",
       "1      0     170000             NaN        1259   463234        6161   \n",
       "2      0     170000             NaN        4465  1857485        7434   \n",
       "3      0     170000             NaN        1004  2038823         977   \n",
       "4      0     170000             NaN        1887  2015141        3688   \n",
       "\n",
       "   connectionType  telecomsOperator  sitesetID  positionType     ...       \\\n",
       "0               1                 1          0             3     ...        \n",
       "1               1                 2          0             1     ...        \n",
       "2               4                 1          0             1     ...        \n",
       "3               1                 1          0             1     ...        \n",
       "4               1                 1          0             1     ...        \n",
       "\n",
       "   marriageStatus  haveBaby  hometown  residence  adID  camgaignID  \\\n",
       "0               3         1         0         13  1321          83   \n",
       "1               1         0         0          2  1535         685   \n",
       "2               0         0         0         15   147         460   \n",
       "3               0         0         0         10   411         564   \n",
       "4               2         0        10         10   369         144   \n",
       "\n",
       "   advertiserID  appID  appPlatform  appCategory  \n",
       "0            10    434            1          108  \n",
       "1            80     14            2            2  \n",
       "2             3    465            1          209  \n",
       "3             3    465            1          209  \n",
       "4            84    360            1          201  \n",
       "\n",
       "[5 rows x 23 columns]"
      ]
     },
     "execution_count": 12,
     "metadata": {},
     "output_type": "execute_result"
    }
   ],
   "source": [
    "dataset = context.merge(user, how='left', on='userID')\n",
    "del context\n",
    "del user\n",
    "gc.collect()\n",
    "dataset = dataset.merge(ad, how='left', on='creativeID')\n",
    "del ad\n",
    "gc.collect()\n",
    "dataset.head()"
   ]
  },
  {
   "cell_type": "code",
   "execution_count": 13,
   "metadata": {
    "collapsed": true
   },
   "outputs": [],
   "source": [
    "def print_value_count(df):\n",
    "    d = {}\n",
    "    for column in df.columns:\n",
    "        d[column] = df[column].value_counts().index.size\n",
    "    s = Series(d).sort_values()\n",
    "    print(s)"
   ]
  },
  {
   "cell_type": "code",
   "execution_count": 14,
   "metadata": {
    "collapsed": false
   },
   "outputs": [
    {
     "name": "stdout",
     "output_type": "stream",
     "text": [
      "label                     2\n",
      "appPlatform               2\n",
      "gender                    3\n",
      "sitesetID                 3\n",
      "marriageStatus            4\n",
      "telecomsOperator          4\n",
      "connectionType            5\n",
      "positionType              6\n",
      "haveBaby                  7\n",
      "education                 8\n",
      "appCategory              14\n",
      "residence                35\n",
      "hometown                 35\n",
      "appID                    50\n",
      "age                      81\n",
      "advertiserID             89\n",
      "camgaignID              677\n",
      "adID                   3447\n",
      "creativeID             6315\n",
      "positionID             7219\n",
      "conversionTime        18206\n",
      "clickTime             20160\n",
      "userID              2595627\n",
      "dtype: int64\n"
     ]
    }
   ],
   "source": [
    "print_value_count(dataset)"
   ]
  },
  {
   "cell_type": "markdown",
   "metadata": {},
   "source": [
    "creativeID, userID, positionID, adID, camgaignID 这几个需要单独考虑"
   ]
  },
  {
   "cell_type": "markdown",
   "metadata": {},
   "source": [
    "camgaignID              677   \n",
    "adID                   3447   \n",
    "creativeID             6315   \n",
    "positionID             7219   \n",
    "userID              2595627   "
   ]
  },
  {
   "cell_type": "markdown",
   "metadata": {},
   "source": [
    "### 统计点击次数，转化次数，转化率"
   ]
  },
  {
   "cell_type": "code",
   "execution_count": 120,
   "metadata": {
    "collapsed": true
   },
   "outputs": [],
   "source": [
    "def min_max_scaling(s):\n",
    "    mx = s.max()\n",
    "    mn = s.min()\n",
    "    s = (s - mn) / (mx - mn)\n",
    "    return s"
   ]
  },
  {
   "cell_type": "code",
   "execution_count": 121,
   "metadata": {
    "collapsed": true
   },
   "outputs": [],
   "source": [
    "def count_ratio(df, column):\n",
    "    click_count_column = 'click_count_' + column\n",
    "    conversion_count_column = 'conversion_count_' + column\n",
    "    conversion_ratio_column = 'conversion_ratio_' + column\n",
    "    \n",
    "    count = DataFrame(df[column].value_counts())\n",
    "    count.reset_index(inplace=True)\n",
    "    count.columns = [column, click_count_column]\n",
    "    \n",
    "    conversion_count = DataFrame(df.loc[df['label'] == 1, column].value_counts())\n",
    "    conversion_count.reset_index(inplace=True)\n",
    "    conversion_count.columns = [column, conversion_count_column]\n",
    "    \n",
    "    count_ratio = count.merge(conversion_count, how='left', on=column)\n",
    "    count_ratio[conversion_count_column].fillna(0, inplace=True)\n",
    "    \n",
    "    count_ratio[conversion_ratio_column] = count_ratio[conversion_count_column] / count_ratio[click_count_column]\n",
    "    \n",
    "    # 取对数，归一化\n",
    "    for c in count_ratio.columns[1:]:\n",
    "        count_ratio[c] = np.log10(count_ratio.loc[count_ratio[c] != 0, c])\n",
    "        count_ratio[c] = min_max_scaling(count_ratio[c])\n",
    "    \n",
    "    return count_ratio"
   ]
  },
  {
   "cell_type": "code",
   "execution_count": 165,
   "metadata": {
    "collapsed": false
   },
   "outputs": [],
   "source": [
    "def count_plot(df):\n",
    "    click_count_column = ''\n",
    "    conversion_count_column = ''\n",
    "    for c in df.columns:\n",
    "        if 'click_count' in c:\n",
    "            click_count_column = c\n",
    "        if 'conversion_count' in c:\n",
    "            conversion_count_column = c\n",
    "    df.loc[df[click_count_column] != 0].plot(x=click_count_column, y=conversion_count_column, kind='scatter', figsize=(16,4))\n",
    "    plt.show()"
   ]
  },
  {
   "cell_type": "code",
   "execution_count": 166,
   "metadata": {
    "collapsed": true
   },
   "outputs": [],
   "source": [
    "def count_ratio_plot(df):\n",
    "    conversion_count_column = ''\n",
    "    conversion_ratio_column = ''\n",
    "    for c in df.columns:\n",
    "        if 'conversion_ratio' in c:\n",
    "            conversion_ratio_column = c\n",
    "        if 'conversion_count' in c:\n",
    "            conversion_count_column = c\n",
    "    df.loc[df[conversion_count_column] != 0].plot(x=conversion_count_column, \\\n",
    "                                                  y=conversion_ratio_column, \\\n",
    "                                                  kind='scatter', \\\n",
    "                                                  figsize=(16,4))\n",
    "    plt.show()"
   ]
  },
  {
   "cell_type": "markdown",
   "metadata": {},
   "source": [
    "## camgaignID"
   ]
  },
  {
   "cell_type": "code",
   "execution_count": 122,
   "metadata": {
    "collapsed": false
   },
   "outputs": [],
   "source": [
    "count_ratio_camgaignID = count_ratio(dataset, 'camgaignID')"
   ]
  },
  {
   "cell_type": "code",
   "execution_count": 123,
   "metadata": {
    "collapsed": false
   },
   "outputs": [
    {
     "data": {
      "text/html": [
       "<div>\n",
       "<table border=\"1\" class=\"dataframe\">\n",
       "  <thead>\n",
       "    <tr style=\"text-align: right;\">\n",
       "      <th></th>\n",
       "      <th>camgaignID</th>\n",
       "      <th>click_count_camgaignID</th>\n",
       "      <th>conversion_count_camgaignID</th>\n",
       "      <th>conversion_ratio_camgaignID</th>\n",
       "    </tr>\n",
       "  </thead>\n",
       "  <tbody>\n",
       "    <tr>\n",
       "      <th>0</th>\n",
       "      <td>0.980186</td>\n",
       "      <td>1.000000</td>\n",
       "      <td>1.000000</td>\n",
       "      <td>0.573870</td>\n",
       "    </tr>\n",
       "    <tr>\n",
       "      <th>1</th>\n",
       "      <td>0.914784</td>\n",
       "      <td>0.918866</td>\n",
       "      <td>0.882377</td>\n",
       "      <td>0.566974</td>\n",
       "    </tr>\n",
       "    <tr>\n",
       "      <th>2</th>\n",
       "      <td>0.962884</td>\n",
       "      <td>0.913707</td>\n",
       "      <td>0.834382</td>\n",
       "      <td>0.515119</td>\n",
       "    </tr>\n",
       "    <tr>\n",
       "      <th>3</th>\n",
       "      <td>0.925147</td>\n",
       "      <td>0.898227</td>\n",
       "      <td>0.836070</td>\n",
       "      <td>0.544426</td>\n",
       "    </tr>\n",
       "    <tr>\n",
       "      <th>4</th>\n",
       "      <td>0.984220</td>\n",
       "      <td>0.881775</td>\n",
       "      <td>0.890582</td>\n",
       "      <td>0.642478</td>\n",
       "    </tr>\n",
       "  </tbody>\n",
       "</table>\n",
       "</div>"
      ],
      "text/plain": [
       "   camgaignID  click_count_camgaignID  conversion_count_camgaignID  \\\n",
       "0    0.980186                1.000000                     1.000000   \n",
       "1    0.914784                0.918866                     0.882377   \n",
       "2    0.962884                0.913707                     0.834382   \n",
       "3    0.925147                0.898227                     0.836070   \n",
       "4    0.984220                0.881775                     0.890582   \n",
       "\n",
       "   conversion_ratio_camgaignID  \n",
       "0                     0.573870  \n",
       "1                     0.566974  \n",
       "2                     0.515119  \n",
       "3                     0.544426  \n",
       "4                     0.642478  "
      ]
     },
     "execution_count": 123,
     "metadata": {},
     "output_type": "execute_result"
    }
   ],
   "source": [
    "count_ratio_camgaignID.head()"
   ]
  },
  {
   "cell_type": "code",
   "execution_count": 124,
   "metadata": {
    "collapsed": false
   },
   "outputs": [
    {
     "name": "stdout",
     "output_type": "stream",
     "text": [
      "conversion_count_camgaignID    150\n",
      "conversion_ratio_camgaignID    425\n",
      "click_count_camgaignID         502\n",
      "camgaignID                     677\n",
      "dtype: int64\n"
     ]
    }
   ],
   "source": [
    "print_value_count(count_ratio_camgaignID)"
   ]
  },
  {
   "cell_type": "code",
   "execution_count": 148,
   "metadata": {
    "collapsed": false
   },
   "outputs": [
    {
     "data": {
      "image/png": "[encoded data removed]",
      "text/plain": [
       "<matplotlib.figure.Figure at 0x7f1d002bc4a8>"
      ]
     },
     "metadata": {},
     "output_type": "display_data"
    }
   ],
   "source": [
    "count_plot(count_ratio_camgaignID)"
   ]
  },
  {
   "cell_type": "markdown",
   "metadata": {},
   "source": [
    "不具有明显的分段特点，故将其作为数值特征输入模型"
   ]
  },
  {
   "cell_type": "markdown",
   "metadata": {},
   "source": [
    "### adID"
   ]
  },
  {
   "cell_type": "code",
   "execution_count": 149,
   "metadata": {
    "collapsed": true
   },
   "outputs": [],
   "source": [
    "count_ratio_adID = count_ratio(dataset, 'adID')"
   ]
  },
  {
   "cell_type": "code",
   "execution_count": 150,
   "metadata": {
    "collapsed": false
   },
   "outputs": [
    {
     "data": {
      "text/html": [
       "<div>\n",
       "<table border=\"1\" class=\"dataframe\">\n",
       "  <thead>\n",
       "    <tr style=\"text-align: right;\">\n",
       "      <th></th>\n",
       "      <th>adID</th>\n",
       "      <th>click_count_adID</th>\n",
       "      <th>conversion_count_adID</th>\n",
       "      <th>conversion_ratio_adID</th>\n",
       "    </tr>\n",
       "  </thead>\n",
       "  <tbody>\n",
       "    <tr>\n",
       "      <th>0</th>\n",
       "      <td>0.999221</td>\n",
       "      <td>1.000000</td>\n",
       "      <td>1.000000</td>\n",
       "      <td>0.541569</td>\n",
       "    </tr>\n",
       "    <tr>\n",
       "      <th>1</th>\n",
       "      <td>0.991726</td>\n",
       "      <td>0.918866</td>\n",
       "      <td>0.882377</td>\n",
       "      <td>0.535061</td>\n",
       "    </tr>\n",
       "    <tr>\n",
       "      <th>2</th>\n",
       "      <td>0.734591</td>\n",
       "      <td>0.913707</td>\n",
       "      <td>0.834382</td>\n",
       "      <td>0.486124</td>\n",
       "    </tr>\n",
       "    <tr>\n",
       "      <th>3</th>\n",
       "      <td>0.903347</td>\n",
       "      <td>0.898227</td>\n",
       "      <td>0.836070</td>\n",
       "      <td>0.513783</td>\n",
       "    </tr>\n",
       "    <tr>\n",
       "      <th>4</th>\n",
       "      <td>0.981287</td>\n",
       "      <td>0.881775</td>\n",
       "      <td>0.890582</td>\n",
       "      <td>0.606316</td>\n",
       "    </tr>\n",
       "  </tbody>\n",
       "</table>\n",
       "</div>"
      ],
      "text/plain": [
       "       adID  click_count_adID  conversion_count_adID  conversion_ratio_adID\n",
       "0  0.999221          1.000000               1.000000               0.541569\n",
       "1  0.991726          0.918866               0.882377               0.535061\n",
       "2  0.734591          0.913707               0.834382               0.486124\n",
       "3  0.903347          0.898227               0.836070               0.513783\n",
       "4  0.981287          0.881775               0.890582               0.606316"
      ]
     },
     "execution_count": 150,
     "metadata": {},
     "output_type": "execute_result"
    }
   ],
   "source": [
    "count_ratio_adID.head()"
   ]
  },
  {
   "cell_type": "code",
   "execution_count": 151,
   "metadata": {
    "collapsed": false
   },
   "outputs": [
    {
     "name": "stdout",
     "output_type": "stream",
     "text": [
      "conversion_count_adID     155\n",
      "click_count_adID          813\n",
      "conversion_ratio_adID     909\n",
      "adID                     3447\n",
      "dtype: int64\n"
     ]
    }
   ],
   "source": [
    "print_value_count(count_ratio_adID)"
   ]
  },
  {
   "cell_type": "code",
   "execution_count": 152,
   "metadata": {
    "collapsed": false
   },
   "outputs": [
    {
     "data": {
      "image/png": "[encoded data removed]",
      "text/plain": [
       "<matplotlib.figure.Figure at 0x7f1d00672c88>"
      ]
     },
     "metadata": {},
     "output_type": "display_data"
    }
   ],
   "source": [
    "count_plot(count_ratio_adID)"
   ]
  },
  {
   "cell_type": "markdown",
   "metadata": {},
   "source": [
    "### creativeID"
   ]
  },
  {
   "cell_type": "code",
   "execution_count": 153,
   "metadata": {
    "collapsed": true
   },
   "outputs": [],
   "source": [
    "count_ratio_creativeID = count_ratio(dataset, 'creativeID')"
   ]
  },
  {
   "cell_type": "code",
   "execution_count": 154,
   "metadata": {
    "collapsed": false
   },
   "outputs": [
    {
     "data": {
      "text/html": [
       "<div>\n",
       "<table border=\"1\" class=\"dataframe\">\n",
       "  <thead>\n",
       "    <tr style=\"text-align: right;\">\n",
       "      <th></th>\n",
       "      <th>creativeID</th>\n",
       "      <th>click_count_creativeID</th>\n",
       "      <th>conversion_count_creativeID</th>\n",
       "      <th>conversion_ratio_creativeID</th>\n",
       "    </tr>\n",
       "  </thead>\n",
       "  <tbody>\n",
       "    <tr>\n",
       "      <th>0</th>\n",
       "      <td>0.958381</td>\n",
       "      <td>1.000000</td>\n",
       "      <td>1.000000</td>\n",
       "      <td>0.544894</td>\n",
       "    </tr>\n",
       "    <tr>\n",
       "      <th>1</th>\n",
       "      <td>0.972909</td>\n",
       "      <td>0.910801</td>\n",
       "      <td>0.825863</td>\n",
       "      <td>0.486477</td>\n",
       "    </tr>\n",
       "    <tr>\n",
       "      <th>2</th>\n",
       "      <td>0.828409</td>\n",
       "      <td>0.908279</td>\n",
       "      <td>0.870314</td>\n",
       "      <td>0.542381</td>\n",
       "    </tr>\n",
       "    <tr>\n",
       "      <th>3</th>\n",
       "      <td>0.674423</td>\n",
       "      <td>0.900974</td>\n",
       "      <td>0.915003</td>\n",
       "      <td>0.606316</td>\n",
       "    </tr>\n",
       "    <tr>\n",
       "      <th>4</th>\n",
       "      <td>0.950249</td>\n",
       "      <td>0.892586</td>\n",
       "      <td>0.816041</td>\n",
       "      <td>0.504550</td>\n",
       "    </tr>\n",
       "  </tbody>\n",
       "</table>\n",
       "</div>"
      ],
      "text/plain": [
       "   creativeID  click_count_creativeID  conversion_count_creativeID  \\\n",
       "0    0.958381                1.000000                     1.000000   \n",
       "1    0.972909                0.910801                     0.825863   \n",
       "2    0.828409                0.908279                     0.870314   \n",
       "3    0.674423                0.900974                     0.915003   \n",
       "4    0.950249                0.892586                     0.816041   \n",
       "\n",
       "   conversion_ratio_creativeID  \n",
       "0                     0.544894  \n",
       "1                     0.486477  \n",
       "2                     0.542381  \n",
       "3                     0.606316  \n",
       "4                     0.504550  "
      ]
     },
     "execution_count": 154,
     "metadata": {},
     "output_type": "execute_result"
    }
   ],
   "source": [
    "count_ratio_creativeID.head()"
   ]
  },
  {
   "cell_type": "code",
   "execution_count": 155,
   "metadata": {
    "collapsed": false
   },
   "outputs": [
    {
     "name": "stdout",
     "output_type": "stream",
     "text": [
      "conversion_count_creativeID     183\n",
      "click_count_creativeID          866\n",
      "conversion_ratio_creativeID    1019\n",
      "creativeID                     6315\n",
      "dtype: int64\n"
     ]
    }
   ],
   "source": [
    "print_value_count(count_ratio_creativeID)"
   ]
  },
  {
   "cell_type": "code",
   "execution_count": 156,
   "metadata": {
    "collapsed": false
   },
   "outputs": [
    {
     "data": {
      "image/png": "[encoded data removed]",
      "text/plain": [
       "<matplotlib.figure.Figure at 0x7f1d00245208>"
      ]
     },
     "metadata": {},
     "output_type": "display_data"
    }
   ],
   "source": [
    "count_plot(count_ratio_creativeID)"
   ]
  },
  {
   "cell_type": "markdown",
   "metadata": {},
   "source": [
    "### positionID"
   ]
  },
  {
   "cell_type": "code",
   "execution_count": 157,
   "metadata": {
    "collapsed": true
   },
   "outputs": [],
   "source": [
    "count_ratio_positionID = count_ratio(dataset, 'positionID')"
   ]
  },
  {
   "cell_type": "code",
   "execution_count": 158,
   "metadata": {
    "collapsed": false
   },
   "outputs": [
    {
     "data": {
      "text/html": [
       "<div>\n",
       "<table border=\"1\" class=\"dataframe\">\n",
       "  <thead>\n",
       "    <tr style=\"text-align: right;\">\n",
       "      <th></th>\n",
       "      <th>positionID</th>\n",
       "      <th>click_count_positionID</th>\n",
       "      <th>conversion_count_positionID</th>\n",
       "      <th>conversion_ratio_positionID</th>\n",
       "    </tr>\n",
       "  </thead>\n",
       "  <tbody>\n",
       "    <tr>\n",
       "      <th>0</th>\n",
       "      <td>0.878475</td>\n",
       "      <td>1.000000</td>\n",
       "      <td>1.000000</td>\n",
       "      <td>0.678628</td>\n",
       "    </tr>\n",
       "    <tr>\n",
       "      <th>1</th>\n",
       "      <td>0.906788</td>\n",
       "      <td>0.989650</td>\n",
       "      <td>0.968443</td>\n",
       "      <td>0.659218</td>\n",
       "    </tr>\n",
       "    <tr>\n",
       "      <th>2</th>\n",
       "      <td>0.858129</td>\n",
       "      <td>0.929303</td>\n",
       "      <td>0.858865</td>\n",
       "      <td>0.625830</td>\n",
       "    </tr>\n",
       "    <tr>\n",
       "      <th>3</th>\n",
       "      <td>0.949499</td>\n",
       "      <td>0.889564</td>\n",
       "      <td>0.596821</td>\n",
       "      <td>0.400261</td>\n",
       "    </tr>\n",
       "    <tr>\n",
       "      <th>4</th>\n",
       "      <td>0.918476</td>\n",
       "      <td>0.874449</td>\n",
       "      <td>0.642550</td>\n",
       "      <td>0.470353</td>\n",
       "    </tr>\n",
       "  </tbody>\n",
       "</table>\n",
       "</div>"
      ],
      "text/plain": [
       "   positionID  click_count_positionID  conversion_count_positionID  \\\n",
       "0    0.878475                1.000000                     1.000000   \n",
       "1    0.906788                0.989650                     0.968443   \n",
       "2    0.858129                0.929303                     0.858865   \n",
       "3    0.949499                0.889564                     0.596821   \n",
       "4    0.918476                0.874449                     0.642550   \n",
       "\n",
       "   conversion_ratio_positionID  \n",
       "0                     0.678628  \n",
       "1                     0.659218  \n",
       "2                     0.625830  \n",
       "3                     0.400261  \n",
       "4                     0.470353  "
      ]
     },
     "execution_count": 158,
     "metadata": {},
     "output_type": "execute_result"
    }
   ],
   "source": [
    "count_ratio_positionID.head()"
   ]
  },
  {
   "cell_type": "code",
   "execution_count": 159,
   "metadata": {
    "collapsed": false
   },
   "outputs": [
    {
     "name": "stdout",
     "output_type": "stream",
     "text": [
      "conversion_count_positionID     183\n",
      "click_count_positionID          885\n",
      "conversion_ratio_positionID    1035\n",
      "positionID                     7219\n",
      "dtype: int64\n"
     ]
    }
   ],
   "source": [
    "print_value_count(count_ratio_positionID)"
   ]
  },
  {
   "cell_type": "code",
   "execution_count": 160,
   "metadata": {
    "collapsed": false
   },
   "outputs": [
    {
     "data": {
      "image/png": "[encoded data removed]",
      "text/plain": [
       "<matplotlib.figure.Figure at 0x7f1d005b9390>"
      ]
     },
     "metadata": {},
     "output_type": "display_data"
    }
   ],
   "source": [
    "count_plot(count_ratio_positionID)"
   ]
  },
  {
   "cell_type": "code",
   "execution_count": 168,
   "metadata": {
    "collapsed": false
   },
   "outputs": [
    {
     "data": {
      "image/png": "[encoded data removed]",
      "text/plain": [
       "<matplotlib.figure.Figure at 0x7f1cc5e09fd0>"
      ]
     },
     "metadata": {},
     "output_type": "display_data"
    }
   ],
   "source": [
    "count_ratio_plot(count_ratio_positionID)"
   ]
  },
  {
   "cell_type": "markdown",
   "metadata": {},
   "source": [
    "### userID"
   ]
  },
  {
   "cell_type": "code",
   "execution_count": 161,
   "metadata": {
    "collapsed": true
   },
   "outputs": [],
   "source": [
    "count_ratio_userID = count_ratio(dataset, 'userID')"
   ]
  },
  {
   "cell_type": "code",
   "execution_count": 162,
   "metadata": {
    "collapsed": false
   },
   "outputs": [
    {
     "data": {
      "text/html": [
       "<div>\n",
       "<table border=\"1\" class=\"dataframe\">\n",
       "  <thead>\n",
       "    <tr style=\"text-align: right;\">\n",
       "      <th></th>\n",
       "      <th>userID</th>\n",
       "      <th>click_count_userID</th>\n",
       "      <th>conversion_count_userID</th>\n",
       "      <th>conversion_ratio_userID</th>\n",
       "    </tr>\n",
       "  </thead>\n",
       "  <tbody>\n",
       "    <tr>\n",
       "      <th>0</th>\n",
       "      <td>0.973214</td>\n",
       "      <td>1.000000</td>\n",
       "      <td>NaN</td>\n",
       "      <td>NaN</td>\n",
       "    </tr>\n",
       "    <tr>\n",
       "      <th>1</th>\n",
       "      <td>0.920789</td>\n",
       "      <td>0.976252</td>\n",
       "      <td>NaN</td>\n",
       "      <td>NaN</td>\n",
       "    </tr>\n",
       "    <tr>\n",
       "      <th>2</th>\n",
       "      <td>0.982939</td>\n",
       "      <td>0.969873</td>\n",
       "      <td>NaN</td>\n",
       "      <td>NaN</td>\n",
       "    </tr>\n",
       "    <tr>\n",
       "      <th>3</th>\n",
       "      <td>0.903960</td>\n",
       "      <td>0.942243</td>\n",
       "      <td>NaN</td>\n",
       "      <td>NaN</td>\n",
       "    </tr>\n",
       "    <tr>\n",
       "      <th>4</th>\n",
       "      <td>0.990989</td>\n",
       "      <td>0.924284</td>\n",
       "      <td>NaN</td>\n",
       "      <td>NaN</td>\n",
       "    </tr>\n",
       "  </tbody>\n",
       "</table>\n",
       "</div>"
      ],
      "text/plain": [
       "     userID  click_count_userID  conversion_count_userID  \\\n",
       "0  0.973214            1.000000                      NaN   \n",
       "1  0.920789            0.976252                      NaN   \n",
       "2  0.982939            0.969873                      NaN   \n",
       "3  0.903960            0.942243                      NaN   \n",
       "4  0.990989            0.924284                      NaN   \n",
       "\n",
       "   conversion_ratio_userID  \n",
       "0                      NaN  \n",
       "1                      NaN  \n",
       "2                      NaN  \n",
       "3                      NaN  \n",
       "4                      NaN  "
      ]
     },
     "execution_count": 162,
     "metadata": {},
     "output_type": "execute_result"
    }
   ],
   "source": [
    "count_ratio_userID.head()"
   ]
  },
  {
   "cell_type": "code",
   "execution_count": 163,
   "metadata": {
    "collapsed": false
   },
   "outputs": [
    {
     "name": "stdout",
     "output_type": "stream",
     "text": [
      "conversion_count_userID          8\n",
      "conversion_ratio_userID         50\n",
      "click_count_userID              68\n",
      "userID                     2595627\n",
      "dtype: int64\n"
     ]
    }
   ],
   "source": [
    "print_value_count(count_ratio_userID)"
   ]
  },
  {
   "cell_type": "code",
   "execution_count": 164,
   "metadata": {
    "collapsed": false
   },
   "outputs": [
    {
     "data": {
      "image/png": "[encoded data removed]",
      "text/plain": [
       "<matplotlib.figure.Figure at 0x7f1d003166d8>"
      ]
     },
     "metadata": {},
     "output_type": "display_data"
    }
   ],
   "source": [
    "count_plot(count_ratio_userID)"
   ]
  },
  {
   "cell_type": "code",
   "execution_count": 167,
   "metadata": {
    "collapsed": false
   },
   "outputs": [
    {
     "data": {
      "image/png": "[encoded data removed]",
      "text/plain": [
       "<matplotlib.figure.Figure at 0x7f1d00028518>"
      ]
     },
     "metadata": {},
     "output_type": "display_data"
    }
   ],
   "source": [
    "count_ratio_plot(count_ratio_userID)"
   ]
  },
  {
   "cell_type": "markdown",
   "metadata": {},
   "source": [
    "可见 uesrID 进行单独的分段处理"
   ]
  },
  {
   "cell_type": "markdown",
   "metadata": {},
   "source": [
    "### 结论"
   ]
  },
  {
   "cell_type": "markdown",
   "metadata": {},
   "source": [
    "|特征|取值个数|特征本身|click_count|conversion_count|conversion_ratio|\n",
    "|---|---|---|---|---|--|\n",
    "|appPlatform         |      2|类别|类别|数值|数值|\n",
    "|gender              |      3|类别|类别|数值|数值|\n",
    "|sitesetID           |      3|类别|类别|数值|数值|\n",
    "|marriageStatus      |      4|类别|类别|数值|数值|\n",
    "|telecomsOperator    |      4|类别|类别|数值|数值|\n",
    "|connectionType      |      5|类别|类别|数值|数值|\n",
    "|positionType        |      6|类别|类别|数值|数值|\n",
    "|haveBaby            |      7|类别|类别|数值|数值|\n",
    "|week                |      7|类别|类别|数值|数值|\n",
    "|education           |      8|类别|类别|数值|数值|\n",
    "|appCategory         |     14|类别|类别|数值|数值|\n",
    "|hour                |     24|类别|类别|数值|数值|\n",
    "|residence           |     35|类别|类别|数值|数值|\n",
    "|hometown            |     35|类别|类别|数值|数值|\n",
    "|appID               |     50|类别|类别|数值|数值|\n",
    "|age                 |     81|分组|分组|数值|数值|\n",
    "|advertiserID        |     89|类别|类别|数值|数值|\n",
    "|camgaignID          |    677|舍弃|数值|数值|数值|\n",
    "|adID                |   3447|舍弃|数值|数值|数值|\n",
    "|creativeID          |   6315|舍弃|数值|数值|数值|\n",
    "|positionID          |   7219|舍弃|数值|数值|数值|\n",
    "|userID              |2595627|舍弃|分组|数值|数值|\n",
    "\n",
    "其中，age在数据清洗时就做过分组了，hometown和residence也是如此。userID的分组在构造特征时进行。"
   ]
  },
  {
   "cell_type": "markdown",
   "metadata": {
    "collapsed": true
   },
   "source": [
    "这三个从trainset中构造出的统计特征，与testset_ol不完全匹配   \n",
    "click_count_creativeID 列有 23729 个缺失值   \n",
    "conversion_count_creativeID 列有 23729 个缺失值   \n",
    "conversion_ratio_creativeID 列有 23729 个缺失值   \n",
    "click_count_userID 列有 272752 个缺失值   \n",
    "conversion_count_userID 列有 272752 个缺失值   \n",
    "conversion_ratio_userID 列有 272752 个缺失值   \n",
    "click_count_positionID 列有 7996 个缺失值   \n",
    "conversion_count_positionID 列有 7996 个缺失值   \n",
    "conversion_ratio_positionID 列有 7996 个缺失值   \n",
    "click_count_adID 列有 17497 个缺失值   \n",
    "conversion_count_adID 列有 17497 个缺失值   \n",
    "conversion_ratio_adID 列有 17497 个缺失值   \n",
    "click_count_camgaignID 列有 4431 个缺失值   \n",
    "conversion_count_camgaignID 列有 4431 个缺失值   \n",
    "conversion_ratio_camgaignID 列有 4431 个缺失值   \n",
    "click_count_advertiserID 列有 1355 个缺失值    \n",
    "conversion_count_advertiserID 列有 1355 个缺失值   \n",
    "conversion_ratio_advertiserID 列有 1355 个缺失值   \n",
    "\n",
    "即应放弃对 creativeID，userID，positionID，adID，camgaignID，advertiserID 做这三个统计量\n"
   ]
  },
  {
   "cell_type": "markdown",
   "metadata": {
    "collapsed": true
   },
   "source": [
    "注意，如果不舍弃最后5天的负样本的话，情况是：\n",
    "click_count_creativeID 列有 10528 个缺失值   \n",
    "conversion_count_creativeID 列有 10528 个缺失值   \n",
    "conversion_ratio_creativeID 列有 10528 个缺失值   \n",
    "click_count_userID 列有 232349 个缺失值   \n",
    "conversion_count_userID 列有 232349 个缺失值   \n",
    "conversion_ratio_userID 列有 232349 个缺失值   \n",
    "click_count_positionID 列有 4156 个缺失值   \n",
    "conversion_count_positionID 列有 4156 个缺失值   \n",
    "conversion_ratio_positionID 列有 4156 个缺失值   \n",
    "click_count_adID 列有 10483 个缺失值   \n",
    "conversion_count_adID 列有 10483 个缺失值  \n",
    "conversion_ratio_adID 列有 10483 个缺失值   \n",
    "click_count_camgaignID 列有 3199 个缺失值  \n",
    "conversion_count_camgaignID 列有 3199 个缺失值  \n",
    "conversion_ratio_camgaignID 列有 3199 个缺失值  \n",
    "click_count_advertiserID 列有 59 个缺失值  \n",
    "conversion_count_advertiserID 列有 59 个缺失值  \n",
    "conversion_ratio_advertiserID 列有 59 个缺失值  \n"
   ]
  },
  {
   "cell_type": "code",
   "execution_count": null,
   "metadata": {
    "collapsed": true
   },
   "outputs": [],
   "source": []
  }
 ],
 "metadata": {
  "kernelspec": {
   "display_name": "Python 3",
   "language": "python",
   "name": "python3"
  },
  "language_info": {
   "codemirror_mode": {
    "name": "ipython",
    "version": 3
   },
   "file_extension": ".py",
   "mimetype": "text/x-python",
   "name": "python",
   "nbconvert_exporter": "python",
   "pygments_lexer": "ipython3",
   "version": "3.6.0"
  }
 },
 "nbformat": 4,
 "nbformat_minor": 2
}
